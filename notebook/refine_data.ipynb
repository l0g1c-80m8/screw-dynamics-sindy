{
 "cells": [
  {
   "cell_type": "code",
   "execution_count": 1,
   "id": "initial_id",
   "metadata": {},
   "outputs": [],
   "source": [
    "import os\n",
    "import pandas as pd\n",
    "import matplotlib.pyplot as plt\n",
    "import numpy as np"
   ]
  },
  {
   "cell_type": "code",
   "execution_count": 2,
   "id": "f1b29c6e-ead2-4bac-a6d6-e1eec16d61fa",
   "metadata": {
    "scrolled": true
   },
   "outputs": [],
   "source": [
    "data_dir = '../data/Screwdriving Model Experiments'\n",
    "observation_file = 'observation_data.csv'\n",
    "sensor_file = 'sensor_data.csv'\n",
    "merged_file = 'merged_data.csv'\n",
    "subdirs = os.listdir(data_dir)\n",
    "files = list(map(lambda sd: os.path.join(data_dir, sd, observation_file), subdirs))\n",
    "# files"
   ]
  },
  {
   "cell_type": "code",
   "execution_count": 3,
   "id": "01b1bc1f-8d82-401f-89ed-96348d3bd213",
   "metadata": {},
   "outputs": [],
   "source": [
    "df = pd.concat(map(pd.read_csv, files), ignore_index=True)\n",
    "# df.head()"
   ]
  },
  {
   "cell_type": "code",
   "execution_count": 4,
   "id": "0c05a050-4340-4a51-b0f4-e433605224fb",
   "metadata": {},
   "outputs": [
    {
     "data": {
      "text/plain": [
       "time     0\n",
       "X       66\n",
       "Y       66\n",
       "Z       66\n",
       "dtype: int64"
      ]
     },
     "execution_count": 4,
     "metadata": {},
     "output_type": "execute_result"
    }
   ],
   "source": [
    "df.isna().sum()"
   ]
  },
  {
   "cell_type": "code",
   "execution_count": 5,
   "id": "03a5cfa9-f8bb-452c-b8fa-65124b40b433",
   "metadata": {},
   "outputs": [],
   "source": [
    "# df.describe()"
   ]
  },
  {
   "cell_type": "code",
   "execution_count": 6,
   "id": "70aa4a66-eb8d-44b0-96cd-28b61818f1e8",
   "metadata": {
    "scrolled": true
   },
   "outputs": [
    {
     "name": "stdout",
     "output_type": "stream",
     "text": [
      "3.813287\n"
     ]
    },
    {
     "data": {
      "image/png": "[encoded data removed]",
      "text/plain": [
       "<Figure size 640x480 with 1 Axes>"
      ]
     },
     "metadata": {},
     "output_type": "display_data"
    }
   ],
   "source": [
    "\n",
    "for subdir in subdirs[:1]:\n",
    "    # input('wait for input...')\n",
    "\n",
    "    observation_path = os.path.join(data_dir, subdir, observation_file)\n",
    "    sensor_path = os.path.join(data_dir, subdir, sensor_file)\n",
    "    \n",
    "    obs_df = pd.read_csv(observation_path)\n",
    "    sen_df = pd.read_csv(sensor_path)\n",
    "    obs_df['ref_time'] = pd.to_datetime(obs_df['time'], unit='ms')\n",
    "    obs_df = obs_df.sort_values(by='time', ascending=True)\n",
    "    sen_df['time'] = pd.to_datetime(sen_df['time'])\n",
    "    obs_df['ref_time'] = (obs_df['ref_time'] - obs_df['ref_time'].min()).dt.total_seconds()\n",
    "    sen_df['time'] = (sen_df['time'] - sen_df['time'].iloc[0]).dt.total_seconds()\n",
    "    sen_df['dist'] = np.sqrt(sen_df['X'] ** 2 + sen_df['Y'] ** 2 + sen_df['Z'] ** 2)\n",
    "\n",
    "    tp_idx = sen_df[sen_df['dist'] >= 0.999 * sen_df['dist'].max()].index.min()\n",
    "\n",
    "    print(sen_df.iloc[tp_idx]['time'])\n",
    "\n",
    "    sen_df.plot(x='time', y=['dist'], kind='line')\n",
    "    plt.show()"
   ]
  },
  {
   "cell_type": "code",
   "execution_count": 7,
   "id": "cd92254d-8b8a-49a7-a65c-a9577cda0f5c",
   "metadata": {},
   "outputs": [],
   "source": [
    "offset = -0.010  # seconds (sensor is this much time ahead of the camera, minus means behind; manually verified with the image timestamp)\n",
    "\n",
    "for subdir in subdirs:\n",
    "    # input('wait for input...')\n",
    "\n",
    "    observation_path = os.path.join(data_dir, subdir, observation_file)\n",
    "    sensor_path = os.path.join(data_dir, subdir, sensor_file)\n",
    "    \n",
    "    obs_df = pd.read_csv(observation_path)\n",
    "    sen_df = pd.read_csv(sensor_path)\n",
    "    \n",
    "    obs_df['time'] = pd.to_datetime(obs_df['time'], unit='ms')\n",
    "    obs_df = obs_df.sort_values(by='time', ascending=True)\n",
    "    obs_df['time'] = (obs_df['time'] - obs_df['time'].min()).dt.total_seconds()\n",
    "    \n",
    "    sen_df['time'] = pd.to_datetime(sen_df['time'])    \n",
    "    sen_df['time'] = (sen_df['time'] - sen_df['time'].iloc[0]).dt.total_seconds()\n",
    "    sen_df['time'] = (sen_df['time'] + offset)\n",
    "\n",
    "    observation_path_out = os.path.join(data_dir, subdir, 'aligned_{}'.format(observation_file))\n",
    "    sensor_path_out = os.path.join(data_dir, subdir, 'aligned_{}'.format(sensor_file))\n",
    "    obs_df.to_csv(observation_path_out, index=False)\n",
    "    sen_df.to_csv(sensor_path_out, index=False)\n",
    "\n",
    "    sen_df['dist'] = np.sqrt(sen_df['X'] ** 2 + sen_df['Y'] ** 2 + sen_df['Z'] ** 2)\n",
    "    tp_idx = sen_df[sen_df['dist'] >= 0.999 * sen_df['dist'].max()].index.min()\n",
    "    trim_time = sen_df['time'][tp_idx]\n",
    "    \n",
    "    tolerance = np.abs(offset)\n",
    "    merged_df = pd.merge_asof(obs_df, sen_df.drop(columns=['X', 'Y', 'Z']), on='time', tolerance=tolerance, direction='nearest')\n",
    "    merged_df = merged_df[merged_df['time'] >= trim_time]\n",
    "    merged_df.reset_index(drop=True, inplace=True)\n",
    "    merged_path_out = os.path.join(data_dir, subdir, merged_file)\n",
    "    merged_df.to_csv(merged_path_out, index=False)\n"
   ]
  },
  {
   "cell_type": "code",
   "execution_count": null,
   "id": "98bce6ac-a1e6-46a3-8899-8975ad15a8ca",
   "metadata": {},
   "outputs": [],
   "source": []
  }
 ],
 "metadata": {
  "kernelspec": {
   "display_name": "Python 3 (ipykernel)",
   "language": "python",
   "name": "python3"
  },
  "language_info": {
   "codemirror_mode": {
    "name": "ipython",
    "version": 3
   },
   "file_extension": ".py",
   "mimetype": "text/x-python",
   "name": "python",
   "nbconvert_exporter": "python",
   "pygments_lexer": "ipython3",
   "version": "3.10.12"
  }
 },
 "nbformat": 4,
 "nbformat_minor": 5
}
