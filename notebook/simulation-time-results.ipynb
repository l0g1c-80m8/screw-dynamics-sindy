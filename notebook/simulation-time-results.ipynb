{
 "cells": [
  {
   "cell_type": "code",
   "id": "initial_id",
   "metadata": {
    "collapsed": true,
    "ExecuteTime": {
     "end_time": "2024-09-23T01:04:27.974017Z",
     "start_time": "2024-09-23T01:04:27.972009Z"
    }
   },
   "source": [
    "import sys\n",
    "sys.path.append('../')"
   ],
   "outputs": [],
   "execution_count": 236
  },
  {
   "metadata": {
    "ExecuteTime": {
     "end_time": "2024-09-23T01:04:27.993281Z",
     "start_time": "2024-09-23T01:04:27.991542Z"
    }
   },
   "cell_type": "code",
   "source": [
    "import matplotlib.pyplot as plt\n",
    "import numpy as np\n",
    "import os\n",
    "import pandas as pd\n",
    "import torch\n",
    "import warnings\n",
    "from scipy.optimize import minimize\n",
    "from torch.utils.data import DataLoader\n",
    "\n",
    "from src.model import SindyModel\n",
    "from src.main import get_args\n",
    "from src.dataloader import ScrewdrivingDataset"
   ],
   "id": "e27d5de25db365d6",
   "outputs": [],
   "execution_count": 237
  },
  {
   "metadata": {
    "ExecuteTime": {
     "end_time": "2024-09-23T01:04:28.039230Z",
     "start_time": "2024-09-23T01:04:28.036626Z"
    }
   },
   "cell_type": "code",
   "source": [
    "%matplotlib inline\n",
    "plt.ioff()"
   ],
   "id": "390d235eeff35ee3",
   "outputs": [
    {
     "data": {
      "text/plain": [
       "<contextlib.ExitStack at 0x777f17fcb0d0>"
      ]
     },
     "execution_count": 238,
     "metadata": {},
     "output_type": "execute_result"
    }
   ],
   "execution_count": 238
  },
  {
   "metadata": {
    "ExecuteTime": {
     "end_time": "2024-09-23T01:04:28.084489Z",
     "start_time": "2024-09-23T01:04:28.082036Z"
    }
   },
   "cell_type": "code",
   "source": [
    "ARGS = get_args()\n",
    "\n",
    "model_dir = os.path.join('..', 'out', 'sindy-model-out', 'checkpoints')\n",
    "processed_model_dir = os.path.join('..', 'out', 'sindy-out-processed')\n",
    "singal_data_dir = os.path.join('..', 'out', 'sindy-data')\n",
    "out_dir = os.path.join('..', 'out', 'time-results')\n",
    "\n",
    "os.makedirs(out_dir, exist_ok=True)"
   ],
   "id": "42216cff37b47b0",
   "outputs": [],
   "execution_count": 239
  },
  {
   "metadata": {
    "ExecuteTime": {
     "end_time": "2024-09-23T01:04:28.349572Z",
     "start_time": "2024-09-23T01:04:28.126228Z"
    }
   },
   "cell_type": "code",
   "source": [
    "test_loader = DataLoader(ScrewdrivingDataset(mode='test', **{**vars(ARGS), 'data_dir': singal_data_dir}))\n",
    "test_x = torch.cat([batch[0] for batch in test_loader], dim=0)\n",
    "\n",
    "test_y = [batch[1].numpy() for batch in DataLoader(ScrewdrivingDataset(mode='test', **{**vars(ARGS), 'data_dir': singal_data_dir}))]\n",
    "test_y = np.concatenate(test_y, axis=0)\n",
    "test_y = test_y.reshape(test_y.shape[0], test_y.shape[-1])"
   ],
   "id": "a5420488929aa22c",
   "outputs": [],
   "execution_count": 240
  },
  {
   "metadata": {
    "ExecuteTime": {
     "end_time": "2024-09-23T01:04:28.394370Z",
     "start_time": "2024-09-23T01:04:28.391994Z"
    }
   },
   "cell_type": "code",
   "source": [
    "def signal_error(params, reference_signals, target_signals):\n",
    "    adjusted_signals = adjust_signal(target_signals, *params)\n",
    "    return np.sum((reference_signals[0] - adjusted_signals[0]) ** 2) + np.sum((reference_signals[1] - adjusted_signals[1]) ** 2)\n",
    "\n",
    "def adjust_signal(target_signals, mean_adjustment, time_shift):\n",
    "    return [\n",
    "        adjust_signal_single(target_signals[0], mean_adjustment, time_shift),\n",
    "        adjust_signal_single(target_signals[1], mean_adjustment, time_shift),\n",
    "    ]\n",
    "    \n",
    "def adjust_signal_single(target_signal, mean_adjustment, time_shift):\n",
    "    shifted_target_signal = np.interp(np.arange(len(target_signal)), np.arange(len(target_signal)) - time_shift, target_signal)\n",
    "    return shifted_target_signal + mean_adjustment"
   ],
   "id": "b0140be81ae1d64b",
   "outputs": [],
   "execution_count": 241
  },
  {
   "metadata": {
    "ExecuteTime": {
     "end_time": "2024-09-23T01:04:28.437788Z",
     "start_time": "2024-09-23T01:04:28.435748Z"
    }
   },
   "cell_type": "code",
   "source": [
    "def gen_pos_from_vel(start_pos, vel_x, vel_y):\n",
    "    positions = [start_pos]\n",
    "    x, y = start_pos\n",
    "    time_period = 1 / 30  # seconds\n",
    "    \n",
    "    for t in range(segment_length - 1):\n",
    "        x += np.real(vel_x[t]) * time_period\n",
    "        y += np.real(vel_y[t]) * time_period\n",
    "        positions.append((x, y))\n",
    "\n",
    "    positions = np.array(positions)\n",
    "    \n",
    "    return [positions[:, 0], positions[:, 1]]"
   ],
   "id": "4c79667171059033",
   "outputs": [],
   "execution_count": 242
  },
  {
   "metadata": {
    "ExecuteTime": {
     "end_time": "2024-09-23T01:04:28.489852Z",
     "start_time": "2024-09-23T01:04:28.487544Z"
    }
   },
   "cell_type": "code",
   "source": [
    "def check_circle_entry(positions, cc, cr):\n",
    "    for idx, pos in enumerate(positions):\n",
    "        distance = np.linalg.norm(pos - cc)\n",
    "        # print(f'idx: {idx}, distance: {distance}')\n",
    "        if distance <= cr:\n",
    "            return idx\n",
    "    return None\n",
    "\n",
    "def generate_random_start(center, distance):\n",
    "    angle = np.random.uniform(0, 2 * np.pi)\n",
    "    x = center[0] + distance * np.cos(angle)\n",
    "    y = center[1] + distance * np.sin(angle)\n",
    "    return np.array([x, y])"
   ],
   "id": "36617aabe6ef823d",
   "outputs": [],
   "execution_count": 243
  },
  {
   "metadata": {
    "ExecuteTime": {
     "end_time": "2024-09-23T01:04:32.234100Z",
     "start_time": "2024-09-23T01:04:28.545057Z"
    }
   },
   "cell_type": "code",
   "source": [
    "model_params_df = pd.read_csv(os.path.join(processed_model_dir, 'cumulative_results.csv'))\n",
    "segment_params_df = pd.read_csv(os.path.join(processed_model_dir, 'segmented', 'best_segmented_results.csv'))\n",
    "\n",
    "model_names = model_params_df['model_name']\n",
    "\n",
    "min_err = float('inf')\n",
    "min_err_model = 'yo mama'\n",
    "\n",
    "model_name = 'model_2024-05-10 21:22:16.041663.pth'\n",
    "model_row = model_params_df[model_params_df.model_name == model_name].iloc[0]\n",
    "segment_row = segment_params_df[segment_params_df.model_name == model_name].iloc[0]\n",
    "\n",
    "segment_params = (segment_row.mean_adjustment, segment_row.time_shift)\n",
    "full_x_params = (model_row.mean_adjustment_vx, model_row.time_shift_vx)\n",
    "full_y_params = (model_row.mean_adjustment_vy, model_row.time_shift_vy)\n",
    "ref_segment_start = segment_row.start_ref\n",
    "target_segment_start = segment_row.start_target\n",
    "segment_length = segment_row.segment_length\n",
    "\n",
    "\n",
    "with torch.no_grad():\n",
    "    model = SindyModel(**vars(ARGS))\n",
    "    model.load_state_dict(torch.load(os.path.join(model_dir, model_name)))\n",
    "    model.eval()\n",
    "    \n",
    "    pred_y = model(test_x).numpy()\n",
    "    pred_y = pred_y.reshape(pred_y.shape[0], pred_y.shape[-1]).astype(np.complex64)\n",
    "    \n",
    "    reference_signal_x = np.copy(test_y)[:, 0]\n",
    "    target_signal_x = pred_y[:, 0]\n",
    "    adjusted_vx = adjust_signal_single(target_signal_x, *full_x_params)\n",
    "    \n",
    "    reference_signal_y = np.copy(test_y)[:, 1]\n",
    "    target_signal_y = pred_y[:, 1]\n",
    "    adjusted_vy = adjust_signal_single(target_signal_y, *full_y_params)\n",
    "    \n",
    "    best_segmented_vx, best_segmented_vy = adjust_signal([adjusted_vx, adjusted_vy], *segment_params)\n",
    "\n",
    "    time_results = dict()\n",
    "    circle_center = np.array([0, 0])\n",
    "    circle_radius = 5\n",
    "    \n",
    "    for start_distance in range(11):\n",
    "        episode_results = []\n",
    "        none_count = 0\n",
    "        \n",
    "        while len(episode_results) < 100:\n",
    "            start_pos = generate_random_start(circle_center, start_distance + circle_radius)\n",
    "            stacked_gen_pos = np.column_stack(gen_pos_from_vel(\n",
    "                start_pos,\n",
    "                best_segmented_vx[target_segment_start:target_segment_start + segment_length],\n",
    "                best_segmented_vy[target_segment_start:target_segment_start + segment_length]\n",
    "            ))\n",
    "            \n",
    "            for idx in range(4):\n",
    "                start_pos = stacked_gen_pos[-1]\n",
    "                stacked_gen_pos = np.row_stack((\n",
    "                    stacked_gen_pos, \n",
    "                    np.column_stack(gen_pos_from_vel(\n",
    "                        start_pos,\n",
    "                        best_segmented_vx[target_segment_start:target_segment_start + segment_length],\n",
    "                        best_segmented_vy[target_segment_start:target_segment_start + segment_length]\n",
    "                        ))\n",
    "                ))\n",
    "            \n",
    "            entry_time = check_circle_entry(stacked_gen_pos, circle_center, circle_radius)\n",
    "            \n",
    "            if entry_time is not None:\n",
    "                episode_results.append(entry_time)\n",
    "            else:\n",
    "                none_count += 1\n",
    "        \n",
    "        print(f'start_distance: {start_distance}, none_count: {none_count}')\n",
    "        \n",
    "        if none_count > 500:\n",
    "            time_results[start_distance] = [np.nan]\n",
    "            break\n",
    "        else:\n",
    "            time_results[start_distance] = episode_results\n",
    "    "
   ],
   "id": "cfbc0dfa18fb19c8",
   "outputs": [
    {
     "name": "stdout",
     "output_type": "stream",
     "text": [
      "start_distance: 0, none_count: 5\n",
      "start_distance: 1, none_count: 253\n",
      "start_distance: 2, none_count: 342\n",
      "start_distance: 3, none_count: 416\n",
      "start_distance: 4, none_count: 351\n",
      "start_distance: 5, none_count: 505\n"
     ]
    }
   ],
   "execution_count": 244
  },
  {
   "metadata": {
    "ExecuteTime": {
     "end_time": "2024-09-23T01:04:32.340941Z",
     "start_time": "2024-09-23T01:04:32.270038Z"
    }
   },
   "cell_type": "code",
   "source": [
    "time_step_to_second_factor = 0.033301513000000005\n",
    "\n",
    "start_distances = []\n",
    "avg_times = []\n",
    "std_dev_times = []\n",
    "\n",
    "for key, val in time_results.items():\n",
    "    start_distances.append(key)\n",
    "    avg_times.append(np.average(val) * time_step_to_second_factor)\n",
    "    std_dev_times.append(np.std(val) * time_step_to_second_factor)\n",
    "\n",
    "plt.figure(figsize=(10, 6))\n",
    "\n",
    "plt.errorbar(start_distances, avg_times, yerr=std_dev_times, fmt='o', ecolor='red', capsize=5, label='Avg Time with Std Dev')\n",
    "\n",
    "plt.xlabel('Start Distance (mm)')\n",
    "plt.ylabel('Average Time (s)')\n",
    "plt.title('Average Time vs Start Distance with Standard Deviation')\n",
    "plt.grid(True)\n",
    "plt.legend()\n",
    "\n",
    "plt.show()\n",
    "\n",
    "pd.DataFrame({\n",
    "    'Start Distance (mm)': start_distances,\n",
    "    'Average Time (s)': avg_times,\n",
    "    'Standard Deviation Time (s)': std_dev_times\n",
    "})"
   ],
   "id": "f3c18663fd6fe0d4",
   "outputs": [
    {
     "data": {
      "text/plain": [
       "<Figure size 1000x600 with 1 Axes>"
      ],
      "image/png": "[encoded data removed]"
     },
     "metadata": {},
     "output_type": "display_data"
    },
    {
     "data": {
      "text/plain": [
       "   Start Distance (mm)  Average Time (s)  Standard Deviation Time (s)\n",
       "0                    0          0.000666                     0.004662\n",
       "1                    1          1.950803                     0.603175\n",
       "2                    2          3.774726                     0.949045\n",
       "3                    3          5.181715                     0.901912\n",
       "4                    4          6.545745                     0.916141\n",
       "5                    5               NaN                          NaN"
      ],
      "text/html": [
       "<div>\n",
       "<style scoped>\n",
       "    .dataframe tbody tr th:only-of-type {\n",
       "        vertical-align: middle;\n",
       "    }\n",
       "\n",
       "    .dataframe tbody tr th {\n",
       "        vertical-align: top;\n",
       "    }\n",
       "\n",
       "    .dataframe thead th {\n",
       "        text-align: right;\n",
       "    }\n",
       "</style>\n",
       "<table border=\"1\" class=\"dataframe\">\n",
       "  <thead>\n",
       "    <tr style=\"text-align: right;\">\n",
       "      <th></th>\n",
       "      <th>Start Distance (mm)</th>\n",
       "      <th>Average Time (s)</th>\n",
       "      <th>Standard Deviation Time (s)</th>\n",
       "    </tr>\n",
       "  </thead>\n",
       "  <tbody>\n",
       "    <tr>\n",
       "      <th>0</th>\n",
       "      <td>0</td>\n",
       "      <td>0.000666</td>\n",
       "      <td>0.004662</td>\n",
       "    </tr>\n",
       "    <tr>\n",
       "      <th>1</th>\n",
       "      <td>1</td>\n",
       "      <td>1.950803</td>\n",
       "      <td>0.603175</td>\n",
       "    </tr>\n",
       "    <tr>\n",
       "      <th>2</th>\n",
       "      <td>2</td>\n",
       "      <td>3.774726</td>\n",
       "      <td>0.949045</td>\n",
       "    </tr>\n",
       "    <tr>\n",
       "      <th>3</th>\n",
       "      <td>3</td>\n",
       "      <td>5.181715</td>\n",
       "      <td>0.901912</td>\n",
       "    </tr>\n",
       "    <tr>\n",
       "      <th>4</th>\n",
       "      <td>4</td>\n",
       "      <td>6.545745</td>\n",
       "      <td>0.916141</td>\n",
       "    </tr>\n",
       "    <tr>\n",
       "      <th>5</th>\n",
       "      <td>5</td>\n",
       "      <td>NaN</td>\n",
       "      <td>NaN</td>\n",
       "    </tr>\n",
       "  </tbody>\n",
       "</table>\n",
       "</div>"
      ]
     },
     "execution_count": 245,
     "metadata": {},
     "output_type": "execute_result"
    }
   ],
   "execution_count": 245
  },
  {
   "metadata": {
    "ExecuteTime": {
     "end_time": "2024-09-23T01:04:32.357835Z",
     "start_time": "2024-09-23T01:04:32.356624Z"
    }
   },
   "cell_type": "code",
   "source": "",
   "id": "a50271c37a5effa9",
   "outputs": [],
   "execution_count": null
  }
 ],
 "metadata": {
  "kernelspec": {
   "display_name": "Python 3",
   "language": "python",
   "name": "python3"
  },
  "language_info": {
   "codemirror_mode": {
    "name": "ipython",
    "version": 2
   },
   "file_extension": ".py",
   "mimetype": "text/x-python",
   "name": "python",
   "nbconvert_exporter": "python",
   "pygments_lexer": "ipython2",
   "version": "2.7.6"
  }
 },
 "nbformat": 4,
 "nbformat_minor": 5
}
