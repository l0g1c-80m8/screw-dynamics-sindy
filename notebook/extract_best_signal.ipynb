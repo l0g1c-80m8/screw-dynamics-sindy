{
 "cells": [
  {
   "cell_type": "code",
   "execution_count": 1,
   "id": "7f28ce65-56d7-49fa-83ea-ef7621c475e1",
   "metadata": {},
   "source": [
    "import sys\n",
    "sys.path.append('../')"
   ],
   "outputs": []
  },
  {
   "cell_type": "code",
   "execution_count": 2,
   "id": "7bf6caa9-217a-43bd-b0ff-bdc41bee4e92",
   "metadata": {},
   "source": [
    "import matplotlib.pyplot as plt\n",
    "import numpy as np\n",
    "import os\n",
    "import pandas as pd\n",
    "import torch\n",
    "import warnings\n",
    "from scipy.optimize import minimize\n",
    "from torch.utils.data import DataLoader\n",
    "\n",
    "from src.model import SindyModel\n",
    "from src.main import get_args\n",
    "from src.dataloader import ScrewdrivingDataset"
   ],
   "outputs": []
  },
  {
   "cell_type": "code",
   "execution_count": 3,
   "id": "a046992c-7f57-4b32-9e14-1156fe2320b8",
   "metadata": {},
   "source": [
    "%matplotlib inline\n",
    "plt.ioff()"
   ],
   "outputs": []
  },
  {
   "cell_type": "code",
   "execution_count": 4,
   "id": "9c4a1982-0f54-461a-8113-2f6bfedaa7b4",
   "metadata": {},
   "source": [
    "ARGS = get_args()\n",
    "\n",
    "singal_data_dir = os.path.join('..', 'out', 'sindy-data')\n",
    "model_dir = os.path.join('..', 'out', 'sindy-model-out', 'checkpoints')\n",
    "data_dir = os.path.join('../', 'out', 'sindy-out-processed')\n",
    "out_dir = os.path.join('../', 'out', 'sindy-out-processed', 'segmented')\n",
    "\n",
    "os.makedirs(out_dir, exist_ok=True)\n",
    "eval_file = 'cumulative_results.csv'\n",
    "\n",
    "segment_length = 150"
   ],
   "outputs": []
  },
  {
   "cell_type": "code",
   "execution_count": 5,
   "id": "df3023e3-0415-4185-8a0f-7bc14d471064",
   "metadata": {},
   "source": [
    "df = pd.read_csv(os.path.join(data_dir, eval_file))\n",
    "df.describe()"
   ],
   "outputs": []
  },
  {
   "cell_type": "code",
   "execution_count": 6,
   "id": "d6128df2-cb4c-4928-aefe-3f840a5813fc",
   "metadata": {},
   "source": [
    "tenth_percentile = df['l2_error'].quantile(0.05)\n",
    "filtered_df = df[df['l2_error'] <= tenth_percentile]\n",
    "filtered_df = filtered_df.sort_values(by=['l2_error'])\n",
    "filtered_df = filtered_df.reset_index(drop=True)\n",
    "filtered_df.head()"
   ],
   "outputs": []
  },
  {
   "cell_type": "code",
   "execution_count": 7,
   "id": "6cd1fbc8-2602-445e-a989-1475b9f3ed14",
   "metadata": {},
   "source": [
    "filtered_df.describe()"
   ],
   "outputs": []
  },
  {
   "cell_type": "code",
   "execution_count": 8,
   "id": "7768e0a8-1b7d-4efc-9fa9-436dd0f0e413",
   "metadata": {},
   "source": [
    "filtered_df.columns"
   ],
   "outputs": []
  },
  {
   "cell_type": "code",
   "execution_count": 9,
   "id": "a0a3a415-2635-4848-a581-a1bf2161c0a0",
   "metadata": {},
   "source": [
    "filtered_models = filtered_df['model_name']\n",
    "\n",
    "model_final_results = []\n",
    "\n",
    "test_loader = DataLoader(ScrewdrivingDataset(mode='test', **{**vars(ARGS), 'data_dir': singal_data_dir}))\n",
    "test_x = torch.cat([batch[0] for batch in test_loader], dim=0)\n",
    "\n",
    "test_y = [batch[1].numpy() for batch in DataLoader(ScrewdrivingDataset(mode='test', **{**vars(ARGS), 'data_dir': singal_data_dir}))]\n",
    "test_y = np.concatenate(test_y, axis=0)\n",
    "test_y = test_y.reshape(test_y.shape[0], test_y.shape[-1])\n",
    "\n",
    "initial_guess = [0., 0.]"
   ],
   "outputs": []
  },
  {
   "cell_type": "code",
   "execution_count": 10,
   "id": "94116c06-2c85-4d7d-8c02-e52eaf9e9ec2",
   "metadata": {},
   "source": [
    "def signal_error(params, reference_signals, target_signals):\n",
    "    adjusted_signals = adjust_signal(target_signals, *params)\n",
    "    return np.sum((reference_signals[0] - adjusted_signals[0]) ** 2) + np.sum((reference_signals[1] - adjusted_signals[1]) ** 2)\n",
    "\n",
    "def adjust_signal(target_signals, mean_adjustment, time_shift):\n",
    "    return [\n",
    "        adjust_signal_single(target_signals[0], mean_adjustment, time_shift),\n",
    "        adjust_signal_single(target_signals[1], mean_adjustment, time_shift),\n",
    "    ]\n",
    "    \n",
    "def adjust_signal_single(target_signal, mean_adjustment, time_shift):\n",
    "    shifted_target_signal = np.interp(np.arange(len(target_signal)), np.arange(len(target_signal)) - time_shift, target_signal)\n",
    "    return shifted_target_signal + mean_adjustment"
   ],
   "outputs": []
  },
  {
   "cell_type": "code",
   "execution_count": 11,
   "id": "435e8579-072e-40fb-a332-305c1549c8d7",
   "metadata": {},
   "source": [
    "def find_best_overlap(reference_signals, target_signals, segment_length=segment_length):\n",
    "    n = len(reference_signals[0])\n",
    "    min_error = float('inf')\n",
    "    best_params = None\n",
    "    best_segments = (None, None)\n",
    "    \n",
    "    for i in range(n - segment_length + 1):\n",
    "        reference_segment_x = reference_signals[0][i:i + segment_length]\n",
    "        reference_segment_y = reference_signals[1][i:i + segment_length]\n",
    "        \n",
    "        for j in range(n - segment_length + 1):\n",
    "            target_segment_x = target_signals[0][j:j + segment_length]\n",
    "            target_segment_y = target_signals[1][j:j + segment_length]\n",
    "            \n",
    "            initial_params = [0, 0]\n",
    "            bounds = [(-np.inf, np.inf), (-segment_length // 2, segment_length // 2)]\n",
    "            \n",
    "            result = minimize(signal_error, initial_params, args=([reference_segment_x, reference_segment_y], [target_segment_x, target_segment_y]), bounds=bounds)\n",
    "            \n",
    "            if result.fun < min_error:\n",
    "                min_error = result.fun\n",
    "                best_params = result.x\n",
    "                best_segments = (i, j)\n",
    "    \n",
    "    return best_segments, best_params, min_error"
   ],
   "outputs": []
  },
  {
   "cell_type": "code",
   "execution_count": 12,
   "id": "ed7bd7d1-cd69-4ce9-9b8e-868b461aa048",
   "metadata": {},
   "source": [
    "def plot_signals( \n",
    "    adjusted_signals, \n",
    "    reference_signals,\n",
    "    model_name,\n",
    "    show_plot=False,\n",
    "    title=\"Signal Comparison\"\n",
    "):\n",
    "    with warnings.catch_warnings():\n",
    "        warnings.filterwarnings(\"ignore\", category=RuntimeWarning)\n",
    "        \n",
    "        t = np.arange(adjusted_signals[0].shape[0])\n",
    "        \n",
    "        fig, axs = plt.subplots(1, 2, figsize=(15, 10))\n",
    "        \n",
    "        axs[0].plot(t, adjusted_signals[0], label='Adjusted Signal Vx', dashes=[6, 2])\n",
    "        axs[0].set_ylabel('Amplitude')\n",
    "        axs[0].legend()\n",
    "        axs[0].grid(True)\n",
    "        \n",
    "        axs[1].plot(t, adjusted_signals[1], label='Adjusted Signal Vy', dashes=[6, 2])\n",
    "        axs[1].set_ylabel('Amplitude')\n",
    "        axs[1].legend()\n",
    "        axs[1].grid(True)\n",
    "        \n",
    "        axs[0].plot(t, reference_signals[0], label='Reference Signal Vx')\n",
    "        axs[0].set_xlabel('Time')\n",
    "        axs[0].set_ylabel('Amplitude')\n",
    "        axs[0].legend()\n",
    "        axs[0].grid(True)\n",
    "        \n",
    "        axs[1].plot(t, reference_signals[1], label='Reference Signal Vy')\n",
    "        axs[1].set_xlabel('Time')\n",
    "        axs[1].set_ylabel('Amplitude')\n",
    "        axs[1].legend()\n",
    "        axs[1].grid(True)\n",
    "        \n",
    "        fig.suptitle(title)\n",
    "        plt.tight_layout()\n",
    "\n",
    "        plt.savefig(os.path.join(out_dir, f'{model_name}.png'))\n",
    "\n",
    "        if show_plot:\n",
    "            plt.show()\n"
   ],
   "outputs": []
  },
  {
   "cell_type": "code",
   "execution_count": 13,
   "id": "0a110835-834e-4e12-8122-d4ad873f7c69",
   "metadata": {},
   "source": [
    "data_store = []"
   ],
   "outputs": []
  },
  {
   "cell_type": "code",
   "execution_count": 14,
   "id": "eb5faad5-0593-48e5-a905-808d5d757329",
   "metadata": {},
   "source": [
    "for idx, row in filtered_df.iterrows():\n",
    "    with warnings.catch_warnings():\n",
    "        warnings.filterwarnings(\"ignore\", category=RuntimeWarning)\n",
    "        \n",
    "        with torch.no_grad():\n",
    "            model = SindyModel(**vars(ARGS))\n",
    "            model.load_state_dict(torch.load(os.path.join(model_dir, row.model_name)))\n",
    "            model.eval()\n",
    "    \n",
    "            pred_y = model(test_x).numpy()\n",
    "            pred_y = pred_y.reshape(pred_y.shape[0], pred_y.shape[-1]).astype(np.complex64)\n",
    "    \n",
    "            reference_signal_x = np.copy(test_y)[:, 0]\n",
    "            target_signal_x = pred_y[:, 0]\n",
    "            adjusted_vx = adjust_signal_single(target_signal_x, row.mean_adjustment_vx, row.time_shift_vx)\n",
    "            \n",
    "            reference_signal_y = np.copy(test_y)[:, 1]\n",
    "            target_signal_y = pred_y[:, 1]\n",
    "            adjusted_vy = adjust_signal_single(target_signal_y, row.mean_adjustment_vy, row.time_shift_vy)\n",
    "\n",
    "            best_segments, best_params, min_error = find_best_overlap([reference_signal_x, reference_signal_y], [adjusted_vx, adjusted_vy])\n",
    "\n",
    "            print(f'#: {idx}, model_name: {row.model_name}, best_segments: {best_segments}, min_error: {min_error}, best_params: {best_params}')\n",
    "            data_store.append([row.model_name, *best_segments, segment_length, min_error, *best_params])\n",
    "\n",
    "            best_segmented_vx, best_segmented_vy = adjust_signal([adjusted_vx, adjusted_vy], *best_params)\n",
    "\n",
    "            \n",
    "            \n",
    "            plot_signals(\n",
    "                [\n",
    "                    best_segmented_vx[best_segments[1]:best_segments[1] + segment_length],\n",
    "                    best_segmented_vy[best_segments[1]:best_segments[1] + segment_length],\n",
    "                ], \n",
    "                [\n",
    "                    reference_signal_x[best_segments[0]:best_segments[0] + segment_length], \n",
    "                    reference_signal_y[best_segments[0]:best_segments[0] + segment_length]\n",
    "                ], \n",
    "                row.model_name\n",
    "            )\n",
    "\n",
    "            \n",
    "            "
   ],
   "outputs": []
  },
  {
   "cell_type": "code",
   "execution_count": 15,
   "id": "fe3dee26-d35c-4304-a014-960f16f5d5b4",
   "metadata": {},
   "source": [
    "out_file_path = os.path.join(out_dir, 'best_segmented_results.csv')\n",
    "np.savetxt(out_file_path, data_store, fmt='%s', delimiter=',')"
   ],
   "outputs": []
  },
  {
   "cell_type": "code",
   "execution_count": 16,
   "id": "ad98b599-68f7-413f-a8a1-018b4a6fe9f9",
   "metadata": {},
   "source": [
    "headers = ['model_name', 'start_ref', 'start_target', 'segment_length', 'min_error', 'mean_adjustment', 'time_shift']\n",
    "\n",
    "with open(out_file_path, 'r+') as fh:\n",
    "    content = fh.read()\n",
    "    fh.seek(0, 0)\n",
    "    fh.write(','.join(headers) + '\\n' + content)\n"
   ],
   "outputs": []
  }
 ],
 "metadata": {
  "kernelspec": {
   "display_name": "Python 3 (ipykernel)",
   "language": "python",
   "name": "python3"
  },
  "language_info": {
   "codemirror_mode": {
    "name": "ipython",
    "version": 3
   },
   "file_extension": ".py",
   "mimetype": "text/x-python",
   "name": "python",
   "nbconvert_exporter": "python",
   "pygments_lexer": "ipython3",
   "version": "3.10.12"
  }
 },
 "nbformat": 4,
 "nbformat_minor": 5
}
