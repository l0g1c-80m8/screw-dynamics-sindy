{
 "cells": [
  {
   "cell_type": "code",
   "execution_count": 1,
   "id": "3c99e75f-dbcb-491d-92c0-d38e861ecf98",
   "metadata": {},
   "outputs": [],
   "source": [
    "import sys\n",
    "sys.path.append('../')"
   ]
  },
  {
   "cell_type": "code",
   "execution_count": 2,
   "id": "7ddc542e-59e3-4215-b303-f60402f5133d",
   "metadata": {},
   "outputs": [],
   "source": [
    "import matplotlib.pyplot as plt\n",
    "import numpy as np\n",
    "import os\n",
    "import torch\n",
    "import warnings\n",
    "from scipy.optimize import minimize\n",
    "from torch.utils.data import DataLoader\n",
    "\n",
    "from src.model import SindyModel\n",
    "from src.main import get_args\n",
    "from src.dataloader import ScrewdrivingDataset"
   ]
  },
  {
   "cell_type": "code",
   "execution_count": 3,
   "id": "7de687ee-b4c7-4c62-8453-195a1120e03f",
   "metadata": {},
   "outputs": [
    {
     "name": "stdout",
     "output_type": "stream",
     "text": [
      "found 1441 models\n"
     ]
    }
   ],
   "source": [
    "ARGS = get_args()\n",
    "data_dir = os.path.join('..', 'out', 'sindy-data')\n",
    "model_dir = os.path.join('..', 'out', 'sindy-model-out', 'checkpoints')\n",
    "out_dir = os.path.join('..', 'out', 'sindy-out-processed')\n",
    "os.makedirs(out_dir, exist_ok=True)\n",
    "model_checkpoints = sorted(filter(lambda f: f.endswith('.pth'), os.listdir(model_dir)))\n",
    "print(f'found {len(model_checkpoints)} models')"
   ]
  },
  {
   "cell_type": "code",
   "execution_count": 4,
   "id": "bb26919a-8237-47f2-890f-c20d4f14aacf",
   "metadata": {},
   "outputs": [
    {
     "data": {
      "text/plain": [
       "<contextlib.ExitStack at 0x73e748d57a90>"
      ]
     },
     "execution_count": 4,
     "metadata": {},
     "output_type": "execute_result"
    }
   ],
   "source": [
    "%matplotlib inline\n",
    "plt.ioff()"
   ]
  },
  {
   "cell_type": "code",
   "execution_count": 5,
   "id": "04bf4351-b1cf-4e66-9528-894e992e33ab",
   "metadata": {},
   "outputs": [],
   "source": [
    "def signal_error(params, reference_signal, target_signal):\n",
    "    adjusted_signal = adjust_signal(target_signal, *params)\n",
    "    return np.sum((reference_signal - adjusted_signal) ** 2)\n",
    "\n",
    "def adjust_signal(target_signal, mean_adjustment, time_shift):\n",
    "    shifted_target_signal = np.interp(np.arange(len(target_signal)), np.arange(len(target_signal)) - time_shift, target_signal)\n",
    "    return shifted_target_signal + mean_adjustment"
   ]
  },
  {
   "cell_type": "code",
   "execution_count": 6,
   "id": "7a68250c-8a58-42f4-90f0-4a4157905003",
   "metadata": {},
   "outputs": [],
   "source": [
    "def plot_signals(\n",
    "    pred_signals, \n",
    "    adjusted_signals, \n",
    "    reference_signals,\n",
    "    model_name,\n",
    "    show_plot=False,\n",
    "    title=\"Signal Comparison\"\n",
    "):\n",
    "    with warnings.catch_warnings():\n",
    "        warnings.filterwarnings(\"ignore\", category=RuntimeWarning)\n",
    "        \n",
    "        t = np.arange(len(pred_signals[0]))\n",
    "        \n",
    "        fig, axs = plt.subplots(1, 2, figsize=(15, 10))\n",
    "        \n",
    "        axs[0].plot(t, pred_signals[0], label='Predicted Signal Vx')\n",
    "        axs[0].set_ylabel('Amplitude')\n",
    "        axs[0].legend()\n",
    "        axs[0].grid(True)\n",
    "        \n",
    "        axs[1].plot(t, pred_signals[1], label='Predicted Signal Vy')\n",
    "        axs[1].set_ylabel('Amplitude')\n",
    "        axs[1].legend()\n",
    "        axs[1].grid(True)\n",
    "        \n",
    "        axs[0].plot(t, adjusted_signals[0], label='Adjusted Signal Vx', dashes=[6, 2])\n",
    "        axs[0].set_ylabel('Amplitude')\n",
    "        axs[0].legend()\n",
    "        axs[0].grid(True)\n",
    "        \n",
    "        axs[1].plot(t, adjusted_signals[1], label='Adjusted Signal Vy', dashes=[6, 2])\n",
    "        axs[1].set_ylabel('Amplitude')\n",
    "        axs[1].legend()\n",
    "        axs[1].grid(True)\n",
    "        \n",
    "        axs[0].plot(t, reference_signals[0], label='Reference Signal Vx')\n",
    "        axs[0].set_xlabel('Time')\n",
    "        axs[0].set_ylabel('Amplitude')\n",
    "        axs[0].legend()\n",
    "        axs[0].grid(True)\n",
    "        \n",
    "        axs[1].plot(t, reference_signals[1], label='Reference Signal Vy')\n",
    "        axs[1].set_xlabel('Time')\n",
    "        axs[1].set_ylabel('Amplitude')\n",
    "        axs[1].legend()\n",
    "        axs[1].grid(True)\n",
    "        \n",
    "        fig.suptitle(title)\n",
    "        plt.tight_layout()\n",
    "\n",
    "        plt.savefig(os.path.join(out_dir, f'{model_name}.png'))\n",
    "\n",
    "        if show_plot:\n",
    "            plt.show()\n"
   ]
  },
  {
   "cell_type": "code",
   "execution_count": 7,
   "id": "013e2700-1247-4f71-a368-e32e59136be2",
   "metadata": {},
   "outputs": [],
   "source": [
    "model_final_results = []\n",
    "\n",
    "test_loader = DataLoader(ScrewdrivingDataset(mode='test', **{**vars(ARGS), 'data_dir': data_dir}))\n",
    "test_x = torch.cat([batch[0] for batch in test_loader], dim=0)\n",
    "\n",
    "test_y = [batch[1].numpy() for batch in DataLoader(ScrewdrivingDataset(mode='test', **{**vars(ARGS), 'data_dir': data_dir}))]\n",
    "test_y = np.concatenate(test_y, axis=0)\n",
    "test_y = test_y.reshape(test_y.shape[0], test_y.shape[-1])\n",
    "\n",
    "initial_guess = [0., 0.]"
   ]
  },
  {
   "cell_type": "code",
   "execution_count": 8,
   "id": "79dd68eb-f154-47bf-b0d6-93038f10e6b5",
   "metadata": {},
   "outputs": [
    {
     "name": "stdout",
     "output_type": "stream",
     "text": [
      "Model: model_2024-05-09 22:01:42.786493.pth, vx err: (229.44934380265943+0j), vx_params: [0.8745272  1.46131171], vy_err: (342.50971532630604+0j), vy_params: [ 1.06841511 -0.2873906 ]\n",
      "Model: model_2024-05-09 22:12:13.978245.pth, vx err: (3.8253851736924718+0j), vx_params: [ 0.11200665 -3.14791124], vy_err: (113.8819538231586+0j), vy_params: [ 0.61523123 -3.69068803]\n",
      "Model: model_2024-05-09 22:14:46.276889.pth, vx err: (92.93092595504514+0j), vx_params: [-0.55642573  0.99997629], vy_err: (470.4152262616244+0j), vy_params: [-1.25200434 -1.81546371]\n",
      "Model: model_2024-05-09 22:17:16.523394.pth, vx err: (274.5490615361647+0j), vx_params: [0.95675279 1.56663985], vy_err: (259.05725555606875+0j), vy_params: [ 0.92902575 -1.1754241 ]\n",
      "Model: model_2024-05-09 22:19:51.606696.pth, vx err: (58.71744749405772+0j), vx_params: [-0.44238385  2.33868439], vy_err: (1.169345309904857+0j), vy_params: [ 0.06103896 -0.99995817]\n",
      "Model: model_2024-05-09 22:22:31.619788.pth, vx err: (28.2230294132895+0j), vx_params: [-0.30512064  0.45591928], vy_err: (11.76856510597764+0j), vy_params: [-0.1974857  -1.36318731]\n",
      "Model: model_2024-05-09 22:25:01.747806.pth, vx err: (953.5094006882725+0j), vx_params: [ 1.78248745 -2.540229  ], vy_err: (398.9918906242315+0j), vy_params: [-1.15318505 -1.45427799]\n",
      "Model: model_2024-05-09 22:27:32.715003.pth, vx err: (47.31886010289479+0j), vx_params: [0.39651031 4.9999951 ], vy_err: (99.27217704682425+0j), vy_params: [-0.57484162  0.48581891]\n",
      "Model: model_2024-05-09 22:30:06.828273.pth, vx err: (488.6547494367924+0j), vx_params: [ 1.27585881 -3.29619285], vy_err: (7.339324804401321+0j), vy_params: [0.15537456 4.13163096]\n",
      "Model: model_2024-05-09 22:32:35.668944.pth, vx err: (5.066423529563263+0j), vx_params: [0.12917127 3.00004751], vy_err: (206.48898499428856+0j), vy_params: [-0.82853477  3.64074317]\n",
      "Model: model_2024-05-09 22:35:05.869918.pth, vx err: (4.339087278990957+0j), vx_params: [-0.11719591  0.25125305], vy_err: (212.5306899767245+0j), vy_params: [-0.84154796  0.13147158]\n",
      "Model: model_2024-05-09 22:37:50.284032.pth, vx err: (42.52962496478306+0j), vx_params: [0.37634402 1.68150676], vy_err: (524.2246865869791+0j), vy_params: [-1.32187958  1.02232722]\n",
      "Model: model_2024-05-09 22:40:28.403605.pth, vx err: (52.00754162853878+0j), vx_params: [-0.41653325  4.75854552], vy_err: (31.442425270629826+0j), vy_params: [ 0.32334722 -1.63764266]\n",
      "Model: model_2024-05-09 22:42:58.069635.pth, vx err: (255.87576733145664+0j), vx_params: [ 0.92346819 -0.14053835], vy_err: (56.320662319638664+0j), vy_params: [ 0.4328953  -0.51344487]\n",
      "Model: model_2024-05-09 22:45:39.780454.pth, vx err: (629.0016593818963+0j), vx_params: [ 1.44757021 -3.28405887], vy_err: (19.1722322344282+0j), vy_params: [ 0.25222478 -0.94927816]\n",
      "Model: model_2024-05-09 22:48:06.733486.pth, vx err: (4.881552086315317+0j), vx_params: [-0.12696254  0.10669462], vy_err: (31.48143730643516+0j), vy_params: [-0.32329757  0.05027337]\n",
      "Model: model_2024-05-09 22:50:36.874236.pth, vx err: (44.05337262036091+0j), vx_params: [-0.38265304  2.38152676], vy_err: (210.04527692998252+0j), vy_params: [-0.83644956  3.99998355]\n",
      "Model: model_2024-05-09 22:53:06.972335.pth, vx err: (926.5660402459815+0j), vx_params: [-1.7571531   4.46228982], vy_err: (252.24659290186088+0j), vy_params: [0.9169527  3.71521626]\n",
      "Model: model_2024-05-09 22:55:43.661960.pth, vx err: (210.89848135614756+0j), vx_params: [-0.83835215  0.42652919], vy_err: (33.88950129490585+0j), vy_params: [-0.33542062 -3.38721286]\n",
      "Model: model_2024-05-09 22:58:10.620346.pth, vx err: (86.59123997653539+0j), vx_params: [0.53669334 3.42168731], vy_err: (75.02215711609301+0j), vy_params: [0.49977709 0.09298839]\n",
      "Model: model_2024-05-09 23:00:44.668288.pth, vx err: (125.41393454674858+0j), vx_params: [0.64658014 0.61987119], vy_err: (759.4340041957599+0j), vy_params: [-1.59101855  4.40514836]\n",
      "Model: model_2024-05-09 23:03:20.274986.pth, vx err: (636.4263028434898+0j), vx_params: [-1.45644016  0.22838312], vy_err: (119.38536419082271+0j), vy_params: [0.63063931 1.51930081]\n",
      "Model: model_2024-05-09 23:05:49.470039.pth, vx err: (282.08219074984333+0j), vx_params: [-0.96957091  0.72111731], vy_err: (68.73124228372143+0j), vy_params: [-0.47855317 -1.34496438]\n",
      "Model: model_2024-05-09 23:08:16.849892.pth, vx err: (76.4718383320023+0j), vx_params: [-0.50465     0.42863539], vy_err: (95.80496731801512+0j), vy_params: [-0.56457163  3.47969687]\n",
      "Model: model_2024-05-09 23:10:52.503465.pth, vx err: (0.903677020283748+0j), vx_params: [0.05417737 1.23326079], vy_err: (6.159945828941593+0j), vy_params: [ 0.14237374 -0.99999869]\n",
      "Model: model_2024-05-09 23:13:22.431802.pth, vx err: (0.3939301368067715+0j), vx_params: [0.03353327 4.00000541], vy_err: (43.88213405593191+0j), vy_params: [ 0.38128501 -4.12843475]\n",
      "Model: model_2024-05-09 23:15:49.281039.pth, vx err: (40.04653364169265+0j), vx_params: [ 0.36518573 -0.13289641], vy_err: (3.6374323956669237+0j), vy_params: [-0.10481737  4.21538359]\n",
      "Model: model_2024-05-09 23:18:23.831460.pth, vx err: (17.929200468465915+0j), vx_params: [-0.24434518 -0.88304206], vy_err: (3.5701369292631404+0j), vy_params: [0.10629549 3.53956862]\n",
      "Model: model_2024-05-09 23:21:10.318604.pth, vx err: (1339.0900028406331+0j), vx_params: [-2.11261007  0.53222435], vy_err: (49.62246890232553+0j), vy_params: [0.40636368 0.07599014]\n",
      "Model: model_2024-05-09 23:23:55.034361.pth, vx err: (74.84821379390337+0j), vx_params: [ 0.49939621 -0.99996032], vy_err: (10.025900296868357+0j), vy_params: [-0.18095688  0.42119867]\n",
      "Model: model_2024-05-09 23:26:29.468864.pth, vx err: (464.6085579471986+0j), vx_params: [-1.24507179  5.24518067], vy_err: (296.4099180801087+0j), vy_params: [-0.99386994 -2.99997735]\n",
      "Model: model_2024-05-09 23:28:57.734421.pth, vx err: (595.8185339692545+0j), vx_params: [-1.40923534 -1.83013355], vy_err: (0.31103089866703004+0j), vy_params: [ 0.02052639 -2.67806323]\n",
      "Model: model_2024-05-09 23:31:30.151227.pth, vx err: (41.94878797808974+0j), vx_params: [0.37357834 4.62372035], vy_err: (369.8770601453931+0j), vy_params: [-1.10970171  3.26106117]\n",
      "Model: model_2024-05-09 23:34:02.534685.pth, vx err: (144.50570388028564+0j), vx_params: [-0.69420655  3.32102642], vy_err: (133.49051319225356+0j), vy_params: [-0.66667429 -3.44288147]\n",
      "Model: model_2024-05-09 23:36:36.681469.pth, vx err: (313.3973601691928+0j), vx_params: [-1.02203327 -2.728453  ], vy_err: (321.3300670393661+0j), vy_params: [-1.03483168 -1.99995705]\n"
     ]
    },
    {
     "name": "stderr",
     "output_type": "stream",
     "text": [
      "Exception ignored in: <function TransformNode.set_children.<locals>.<lambda> at 0x73e5f3956710>\n",
      "Traceback (most recent call last):\n",
      "  File \"/home/rutvik/Desktop/screwdriving-model-sindy-rcim/venv/lib/python3.10/site-packages/matplotlib/transforms.py\", line 198, in <lambda>\n",
      "    self, lambda _, pop=child._parents.pop, k=id_self: pop(k))\n",
      "KeyboardInterrupt: \n"
     ]
    },
    {
     "name": "stdout",
     "output_type": "stream",
     "text": [
      "Model: model_2024-05-09 23:39:11.157484.pth, vx err: (159.63039744907314+0j), vx_params: [ 0.72892765 -1.65984716], vy_err: (170.53600247333193+0j), vy_params: [ 0.75392037 -0.48697323]\n",
      "Model: model_2024-05-09 23:41:40.663431.pth, vx err: (26.348534336229402+0j), vx_params: [0.29579133 2.81556595], vy_err: (120.12885273394105+0j), vy_params: [-0.63166727  3.92196576]\n",
      "Model: model_2024-05-09 23:44:14.038231.pth, vx err: (37.78868394439512+0j), vx_params: [-0.35468882  1.78853199], vy_err: (277.28476547920275+0j), vy_params: [-0.96164077  3.63762771]\n"
     ]
    },
    {
     "ename": "KeyboardInterrupt",
     "evalue": "",
     "output_type": "error",
     "traceback": [
      "\u001b[0;31m---------------------------------------------------------------------------\u001b[0m",
      "\u001b[0;31mKeyboardInterrupt\u001b[0m                         Traceback (most recent call last)",
      "Cell \u001b[0;32mIn[8], line 23\u001b[0m\n\u001b[1;32m     20\u001b[0m result_vy \u001b[38;5;241m=\u001b[39m minimize(signal_error, initial_guess\u001b[38;5;241m.\u001b[39mcopy(), args\u001b[38;5;241m=\u001b[39m(reference_signal_y, target_signal_y), method\u001b[38;5;241m=\u001b[39m\u001b[38;5;124m'\u001b[39m\u001b[38;5;124mNelder-Mead\u001b[39m\u001b[38;5;124m'\u001b[39m)\n\u001b[1;32m     21\u001b[0m adjusted_vy \u001b[38;5;241m=\u001b[39m adjust_signal(target_signal_y, \u001b[38;5;241m*\u001b[39mresult_vy\u001b[38;5;241m.\u001b[39mx)\n\u001b[0;32m---> 23\u001b[0m \u001b[43mplot_signals\u001b[49m\u001b[43m(\u001b[49m\u001b[43m[\u001b[49m\u001b[43mpred_y\u001b[49m\u001b[43m[\u001b[49m\u001b[43m:\u001b[49m\u001b[43m,\u001b[49m\u001b[43m \u001b[49m\u001b[38;5;241;43m0\u001b[39;49m\u001b[43m]\u001b[49m\u001b[43m,\u001b[49m\u001b[43m \u001b[49m\u001b[43mpred_y\u001b[49m\u001b[43m[\u001b[49m\u001b[43m:\u001b[49m\u001b[43m,\u001b[49m\u001b[43m \u001b[49m\u001b[38;5;241;43m1\u001b[39;49m\u001b[43m]\u001b[49m\u001b[43m]\u001b[49m\u001b[43m,\u001b[49m\u001b[43m \u001b[49m\u001b[43m[\u001b[49m\u001b[43madjusted_vx\u001b[49m\u001b[43m,\u001b[49m\u001b[43m \u001b[49m\u001b[43madjusted_vy\u001b[49m\u001b[43m]\u001b[49m\u001b[43m,\u001b[49m\u001b[43m \u001b[49m\u001b[43m[\u001b[49m\u001b[43mreference_signal_x\u001b[49m\u001b[43m,\u001b[49m\u001b[43m \u001b[49m\u001b[43mreference_signal_y\u001b[49m\u001b[43m]\u001b[49m\u001b[43m,\u001b[49m\u001b[43m \u001b[49m\u001b[43mmodel_name\u001b[49m\u001b[43m,\u001b[49m\u001b[43m \u001b[49m\u001b[38;5;28;43;01mFalse\u001b[39;49;00m\u001b[43m)\u001b[49m\n\u001b[1;32m     25\u001b[0m final_x_error \u001b[38;5;241m=\u001b[39m signal_error(result_vx\u001b[38;5;241m.\u001b[39mx, reference_signal_x, adjusted_vx)\n\u001b[1;32m     26\u001b[0m final_y_error \u001b[38;5;241m=\u001b[39m signal_error(result_vy\u001b[38;5;241m.\u001b[39mx, reference_signal_y, adjusted_vy)\n",
      "Cell \u001b[0;32mIn[6], line 51\u001b[0m, in \u001b[0;36mplot_signals\u001b[0;34m(pred_signals, adjusted_signals, reference_signals, model_name, show_plot, title)\u001b[0m\n\u001b[1;32m     48\u001b[0m fig\u001b[38;5;241m.\u001b[39msuptitle(title)\n\u001b[1;32m     49\u001b[0m plt\u001b[38;5;241m.\u001b[39mtight_layout()\n\u001b[0;32m---> 51\u001b[0m \u001b[43mplt\u001b[49m\u001b[38;5;241;43m.\u001b[39;49m\u001b[43msavefig\u001b[49m\u001b[43m(\u001b[49m\u001b[43mos\u001b[49m\u001b[38;5;241;43m.\u001b[39;49m\u001b[43mpath\u001b[49m\u001b[38;5;241;43m.\u001b[39;49m\u001b[43mjoin\u001b[49m\u001b[43m(\u001b[49m\u001b[43mout_dir\u001b[49m\u001b[43m,\u001b[49m\u001b[43m \u001b[49m\u001b[38;5;124;43mf\u001b[39;49m\u001b[38;5;124;43m'\u001b[39;49m\u001b[38;5;132;43;01m{\u001b[39;49;00m\u001b[43mmodel_name\u001b[49m\u001b[38;5;132;43;01m}\u001b[39;49;00m\u001b[38;5;124;43m.png\u001b[39;49m\u001b[38;5;124;43m'\u001b[39;49m\u001b[43m)\u001b[49m\u001b[43m)\u001b[49m\n\u001b[1;32m     53\u001b[0m \u001b[38;5;28;01mif\u001b[39;00m show_plot:\n\u001b[1;32m     54\u001b[0m     plt\u001b[38;5;241m.\u001b[39mshow()\n",
      "File \u001b[0;32m~/Desktop/screwdriving-model-sindy-rcim/venv/lib/python3.10/site-packages/matplotlib/pyplot.py:1135\u001b[0m, in \u001b[0;36msavefig\u001b[0;34m(*args, **kwargs)\u001b[0m\n\u001b[1;32m   1132\u001b[0m \u001b[38;5;66;03m# savefig default implementation has no return, so mypy is unhappy\u001b[39;00m\n\u001b[1;32m   1133\u001b[0m \u001b[38;5;66;03m# presumably this is here because subclasses can return?\u001b[39;00m\n\u001b[1;32m   1134\u001b[0m res \u001b[38;5;241m=\u001b[39m fig\u001b[38;5;241m.\u001b[39msavefig(\u001b[38;5;241m*\u001b[39margs, \u001b[38;5;241m*\u001b[39m\u001b[38;5;241m*\u001b[39mkwargs)  \u001b[38;5;66;03m# type: ignore[func-returns-value]\u001b[39;00m\n\u001b[0;32m-> 1135\u001b[0m \u001b[43mfig\u001b[49m\u001b[38;5;241;43m.\u001b[39;49m\u001b[43mcanvas\u001b[49m\u001b[38;5;241;43m.\u001b[39;49m\u001b[43mdraw_idle\u001b[49m\u001b[43m(\u001b[49m\u001b[43m)\u001b[49m  \u001b[38;5;66;03m# Need this if 'transparent=True', to reset colors.\u001b[39;00m\n\u001b[1;32m   1136\u001b[0m \u001b[38;5;28;01mreturn\u001b[39;00m res\n",
      "File \u001b[0;32m~/Desktop/screwdriving-model-sindy-rcim/venv/lib/python3.10/site-packages/matplotlib/backend_bases.py:1893\u001b[0m, in \u001b[0;36mFigureCanvasBase.draw_idle\u001b[0;34m(self, *args, **kwargs)\u001b[0m\n\u001b[1;32m   1891\u001b[0m \u001b[38;5;28;01mif\u001b[39;00m \u001b[38;5;129;01mnot\u001b[39;00m \u001b[38;5;28mself\u001b[39m\u001b[38;5;241m.\u001b[39m_is_idle_drawing:\n\u001b[1;32m   1892\u001b[0m     \u001b[38;5;28;01mwith\u001b[39;00m \u001b[38;5;28mself\u001b[39m\u001b[38;5;241m.\u001b[39m_idle_draw_cntx():\n\u001b[0;32m-> 1893\u001b[0m         \u001b[38;5;28;43mself\u001b[39;49m\u001b[38;5;241;43m.\u001b[39;49m\u001b[43mdraw\u001b[49m\u001b[43m(\u001b[49m\u001b[38;5;241;43m*\u001b[39;49m\u001b[43margs\u001b[49m\u001b[43m,\u001b[49m\u001b[43m \u001b[49m\u001b[38;5;241;43m*\u001b[39;49m\u001b[38;5;241;43m*\u001b[39;49m\u001b[43mkwargs\u001b[49m\u001b[43m)\u001b[49m\n",
      "File \u001b[0;32m~/Desktop/screwdriving-model-sindy-rcim/venv/lib/python3.10/site-packages/matplotlib/backends/backend_agg.py:388\u001b[0m, in \u001b[0;36mFigureCanvasAgg.draw\u001b[0;34m(self)\u001b[0m\n\u001b[1;32m    385\u001b[0m \u001b[38;5;66;03m# Acquire a lock on the shared font cache.\u001b[39;00m\n\u001b[1;32m    386\u001b[0m \u001b[38;5;28;01mwith\u001b[39;00m (\u001b[38;5;28mself\u001b[39m\u001b[38;5;241m.\u001b[39mtoolbar\u001b[38;5;241m.\u001b[39m_wait_cursor_for_draw_cm() \u001b[38;5;28;01mif\u001b[39;00m \u001b[38;5;28mself\u001b[39m\u001b[38;5;241m.\u001b[39mtoolbar\n\u001b[1;32m    387\u001b[0m       \u001b[38;5;28;01melse\u001b[39;00m nullcontext()):\n\u001b[0;32m--> 388\u001b[0m     \u001b[38;5;28;43mself\u001b[39;49m\u001b[38;5;241;43m.\u001b[39;49m\u001b[43mfigure\u001b[49m\u001b[38;5;241;43m.\u001b[39;49m\u001b[43mdraw\u001b[49m\u001b[43m(\u001b[49m\u001b[38;5;28;43mself\u001b[39;49m\u001b[38;5;241;43m.\u001b[39;49m\u001b[43mrenderer\u001b[49m\u001b[43m)\u001b[49m\n\u001b[1;32m    389\u001b[0m     \u001b[38;5;66;03m# A GUI class may be need to update a window using this draw, so\u001b[39;00m\n\u001b[1;32m    390\u001b[0m     \u001b[38;5;66;03m# don't forget to call the superclass.\u001b[39;00m\n\u001b[1;32m    391\u001b[0m     \u001b[38;5;28msuper\u001b[39m()\u001b[38;5;241m.\u001b[39mdraw()\n",
      "File \u001b[0;32m~/Desktop/screwdriving-model-sindy-rcim/venv/lib/python3.10/site-packages/matplotlib/artist.py:95\u001b[0m, in \u001b[0;36m_finalize_rasterization.<locals>.draw_wrapper\u001b[0;34m(artist, renderer, *args, **kwargs)\u001b[0m\n\u001b[1;32m     93\u001b[0m \u001b[38;5;129m@wraps\u001b[39m(draw)\n\u001b[1;32m     94\u001b[0m \u001b[38;5;28;01mdef\u001b[39;00m \u001b[38;5;21mdraw_wrapper\u001b[39m(artist, renderer, \u001b[38;5;241m*\u001b[39margs, \u001b[38;5;241m*\u001b[39m\u001b[38;5;241m*\u001b[39mkwargs):\n\u001b[0;32m---> 95\u001b[0m     result \u001b[38;5;241m=\u001b[39m \u001b[43mdraw\u001b[49m\u001b[43m(\u001b[49m\u001b[43martist\u001b[49m\u001b[43m,\u001b[49m\u001b[43m \u001b[49m\u001b[43mrenderer\u001b[49m\u001b[43m,\u001b[49m\u001b[43m \u001b[49m\u001b[38;5;241;43m*\u001b[39;49m\u001b[43margs\u001b[49m\u001b[43m,\u001b[49m\u001b[43m \u001b[49m\u001b[38;5;241;43m*\u001b[39;49m\u001b[38;5;241;43m*\u001b[39;49m\u001b[43mkwargs\u001b[49m\u001b[43m)\u001b[49m\n\u001b[1;32m     96\u001b[0m     \u001b[38;5;28;01mif\u001b[39;00m renderer\u001b[38;5;241m.\u001b[39m_rasterizing:\n\u001b[1;32m     97\u001b[0m         renderer\u001b[38;5;241m.\u001b[39mstop_rasterizing()\n",
      "File \u001b[0;32m~/Desktop/screwdriving-model-sindy-rcim/venv/lib/python3.10/site-packages/matplotlib/artist.py:72\u001b[0m, in \u001b[0;36mallow_rasterization.<locals>.draw_wrapper\u001b[0;34m(artist, renderer)\u001b[0m\n\u001b[1;32m     69\u001b[0m     \u001b[38;5;28;01mif\u001b[39;00m artist\u001b[38;5;241m.\u001b[39mget_agg_filter() \u001b[38;5;129;01mis\u001b[39;00m \u001b[38;5;129;01mnot\u001b[39;00m \u001b[38;5;28;01mNone\u001b[39;00m:\n\u001b[1;32m     70\u001b[0m         renderer\u001b[38;5;241m.\u001b[39mstart_filter()\n\u001b[0;32m---> 72\u001b[0m     \u001b[38;5;28;01mreturn\u001b[39;00m \u001b[43mdraw\u001b[49m\u001b[43m(\u001b[49m\u001b[43martist\u001b[49m\u001b[43m,\u001b[49m\u001b[43m \u001b[49m\u001b[43mrenderer\u001b[49m\u001b[43m)\u001b[49m\n\u001b[1;32m     73\u001b[0m \u001b[38;5;28;01mfinally\u001b[39;00m:\n\u001b[1;32m     74\u001b[0m     \u001b[38;5;28;01mif\u001b[39;00m artist\u001b[38;5;241m.\u001b[39mget_agg_filter() \u001b[38;5;129;01mis\u001b[39;00m \u001b[38;5;129;01mnot\u001b[39;00m \u001b[38;5;28;01mNone\u001b[39;00m:\n",
      "File \u001b[0;32m~/Desktop/screwdriving-model-sindy-rcim/venv/lib/python3.10/site-packages/matplotlib/figure.py:3154\u001b[0m, in \u001b[0;36mFigure.draw\u001b[0;34m(self, renderer)\u001b[0m\n\u001b[1;32m   3151\u001b[0m         \u001b[38;5;66;03m# ValueError can occur when resizing a window.\u001b[39;00m\n\u001b[1;32m   3153\u001b[0m \u001b[38;5;28mself\u001b[39m\u001b[38;5;241m.\u001b[39mpatch\u001b[38;5;241m.\u001b[39mdraw(renderer)\n\u001b[0;32m-> 3154\u001b[0m \u001b[43mmimage\u001b[49m\u001b[38;5;241;43m.\u001b[39;49m\u001b[43m_draw_list_compositing_images\u001b[49m\u001b[43m(\u001b[49m\n\u001b[1;32m   3155\u001b[0m \u001b[43m    \u001b[49m\u001b[43mrenderer\u001b[49m\u001b[43m,\u001b[49m\u001b[43m \u001b[49m\u001b[38;5;28;43mself\u001b[39;49m\u001b[43m,\u001b[49m\u001b[43m \u001b[49m\u001b[43martists\u001b[49m\u001b[43m,\u001b[49m\u001b[43m \u001b[49m\u001b[38;5;28;43mself\u001b[39;49m\u001b[38;5;241;43m.\u001b[39;49m\u001b[43msuppressComposite\u001b[49m\u001b[43m)\u001b[49m\n\u001b[1;32m   3157\u001b[0m \u001b[38;5;28;01mfor\u001b[39;00m sfig \u001b[38;5;129;01min\u001b[39;00m \u001b[38;5;28mself\u001b[39m\u001b[38;5;241m.\u001b[39msubfigs:\n\u001b[1;32m   3158\u001b[0m     sfig\u001b[38;5;241m.\u001b[39mdraw(renderer)\n",
      "File \u001b[0;32m~/Desktop/screwdriving-model-sindy-rcim/venv/lib/python3.10/site-packages/matplotlib/image.py:132\u001b[0m, in \u001b[0;36m_draw_list_compositing_images\u001b[0;34m(renderer, parent, artists, suppress_composite)\u001b[0m\n\u001b[1;32m    130\u001b[0m \u001b[38;5;28;01mif\u001b[39;00m not_composite \u001b[38;5;129;01mor\u001b[39;00m \u001b[38;5;129;01mnot\u001b[39;00m has_images:\n\u001b[1;32m    131\u001b[0m     \u001b[38;5;28;01mfor\u001b[39;00m a \u001b[38;5;129;01min\u001b[39;00m artists:\n\u001b[0;32m--> 132\u001b[0m         \u001b[43ma\u001b[49m\u001b[38;5;241;43m.\u001b[39;49m\u001b[43mdraw\u001b[49m\u001b[43m(\u001b[49m\u001b[43mrenderer\u001b[49m\u001b[43m)\u001b[49m\n\u001b[1;32m    133\u001b[0m \u001b[38;5;28;01melse\u001b[39;00m:\n\u001b[1;32m    134\u001b[0m     \u001b[38;5;66;03m# Composite any adjacent images together\u001b[39;00m\n\u001b[1;32m    135\u001b[0m     image_group \u001b[38;5;241m=\u001b[39m []\n",
      "File \u001b[0;32m~/Desktop/screwdriving-model-sindy-rcim/venv/lib/python3.10/site-packages/matplotlib/artist.py:72\u001b[0m, in \u001b[0;36mallow_rasterization.<locals>.draw_wrapper\u001b[0;34m(artist, renderer)\u001b[0m\n\u001b[1;32m     69\u001b[0m     \u001b[38;5;28;01mif\u001b[39;00m artist\u001b[38;5;241m.\u001b[39mget_agg_filter() \u001b[38;5;129;01mis\u001b[39;00m \u001b[38;5;129;01mnot\u001b[39;00m \u001b[38;5;28;01mNone\u001b[39;00m:\n\u001b[1;32m     70\u001b[0m         renderer\u001b[38;5;241m.\u001b[39mstart_filter()\n\u001b[0;32m---> 72\u001b[0m     \u001b[38;5;28;01mreturn\u001b[39;00m \u001b[43mdraw\u001b[49m\u001b[43m(\u001b[49m\u001b[43martist\u001b[49m\u001b[43m,\u001b[49m\u001b[43m \u001b[49m\u001b[43mrenderer\u001b[49m\u001b[43m)\u001b[49m\n\u001b[1;32m     73\u001b[0m \u001b[38;5;28;01mfinally\u001b[39;00m:\n\u001b[1;32m     74\u001b[0m     \u001b[38;5;28;01mif\u001b[39;00m artist\u001b[38;5;241m.\u001b[39mget_agg_filter() \u001b[38;5;129;01mis\u001b[39;00m \u001b[38;5;129;01mnot\u001b[39;00m \u001b[38;5;28;01mNone\u001b[39;00m:\n",
      "File \u001b[0;32m~/Desktop/screwdriving-model-sindy-rcim/venv/lib/python3.10/site-packages/matplotlib/axes/_base.py:3070\u001b[0m, in \u001b[0;36m_AxesBase.draw\u001b[0;34m(self, renderer)\u001b[0m\n\u001b[1;32m   3067\u001b[0m \u001b[38;5;28;01mif\u001b[39;00m artists_rasterized:\n\u001b[1;32m   3068\u001b[0m     _draw_rasterized(\u001b[38;5;28mself\u001b[39m\u001b[38;5;241m.\u001b[39mfigure, artists_rasterized, renderer)\n\u001b[0;32m-> 3070\u001b[0m \u001b[43mmimage\u001b[49m\u001b[38;5;241;43m.\u001b[39;49m\u001b[43m_draw_list_compositing_images\u001b[49m\u001b[43m(\u001b[49m\n\u001b[1;32m   3071\u001b[0m \u001b[43m    \u001b[49m\u001b[43mrenderer\u001b[49m\u001b[43m,\u001b[49m\u001b[43m \u001b[49m\u001b[38;5;28;43mself\u001b[39;49m\u001b[43m,\u001b[49m\u001b[43m \u001b[49m\u001b[43martists\u001b[49m\u001b[43m,\u001b[49m\u001b[43m \u001b[49m\u001b[38;5;28;43mself\u001b[39;49m\u001b[38;5;241;43m.\u001b[39;49m\u001b[43mfigure\u001b[49m\u001b[38;5;241;43m.\u001b[39;49m\u001b[43msuppressComposite\u001b[49m\u001b[43m)\u001b[49m\n\u001b[1;32m   3073\u001b[0m renderer\u001b[38;5;241m.\u001b[39mclose_group(\u001b[38;5;124m'\u001b[39m\u001b[38;5;124maxes\u001b[39m\u001b[38;5;124m'\u001b[39m)\n\u001b[1;32m   3074\u001b[0m \u001b[38;5;28mself\u001b[39m\u001b[38;5;241m.\u001b[39mstale \u001b[38;5;241m=\u001b[39m \u001b[38;5;28;01mFalse\u001b[39;00m\n",
      "File \u001b[0;32m~/Desktop/screwdriving-model-sindy-rcim/venv/lib/python3.10/site-packages/matplotlib/image.py:132\u001b[0m, in \u001b[0;36m_draw_list_compositing_images\u001b[0;34m(renderer, parent, artists, suppress_composite)\u001b[0m\n\u001b[1;32m    130\u001b[0m \u001b[38;5;28;01mif\u001b[39;00m not_composite \u001b[38;5;129;01mor\u001b[39;00m \u001b[38;5;129;01mnot\u001b[39;00m has_images:\n\u001b[1;32m    131\u001b[0m     \u001b[38;5;28;01mfor\u001b[39;00m a \u001b[38;5;129;01min\u001b[39;00m artists:\n\u001b[0;32m--> 132\u001b[0m         \u001b[43ma\u001b[49m\u001b[38;5;241;43m.\u001b[39;49m\u001b[43mdraw\u001b[49m\u001b[43m(\u001b[49m\u001b[43mrenderer\u001b[49m\u001b[43m)\u001b[49m\n\u001b[1;32m    133\u001b[0m \u001b[38;5;28;01melse\u001b[39;00m:\n\u001b[1;32m    134\u001b[0m     \u001b[38;5;66;03m# Composite any adjacent images together\u001b[39;00m\n\u001b[1;32m    135\u001b[0m     image_group \u001b[38;5;241m=\u001b[39m []\n",
      "File \u001b[0;32m~/Desktop/screwdriving-model-sindy-rcim/venv/lib/python3.10/site-packages/matplotlib/artist.py:72\u001b[0m, in \u001b[0;36mallow_rasterization.<locals>.draw_wrapper\u001b[0;34m(artist, renderer)\u001b[0m\n\u001b[1;32m     69\u001b[0m     \u001b[38;5;28;01mif\u001b[39;00m artist\u001b[38;5;241m.\u001b[39mget_agg_filter() \u001b[38;5;129;01mis\u001b[39;00m \u001b[38;5;129;01mnot\u001b[39;00m \u001b[38;5;28;01mNone\u001b[39;00m:\n\u001b[1;32m     70\u001b[0m         renderer\u001b[38;5;241m.\u001b[39mstart_filter()\n\u001b[0;32m---> 72\u001b[0m     \u001b[38;5;28;01mreturn\u001b[39;00m \u001b[43mdraw\u001b[49m\u001b[43m(\u001b[49m\u001b[43martist\u001b[49m\u001b[43m,\u001b[49m\u001b[43m \u001b[49m\u001b[43mrenderer\u001b[49m\u001b[43m)\u001b[49m\n\u001b[1;32m     73\u001b[0m \u001b[38;5;28;01mfinally\u001b[39;00m:\n\u001b[1;32m     74\u001b[0m     \u001b[38;5;28;01mif\u001b[39;00m artist\u001b[38;5;241m.\u001b[39mget_agg_filter() \u001b[38;5;129;01mis\u001b[39;00m \u001b[38;5;129;01mnot\u001b[39;00m \u001b[38;5;28;01mNone\u001b[39;00m:\n",
      "File \u001b[0;32m~/Desktop/screwdriving-model-sindy-rcim/venv/lib/python3.10/site-packages/matplotlib/legend.py:780\u001b[0m, in \u001b[0;36mLegend.draw\u001b[0;34m(self, renderer)\u001b[0m\n\u001b[1;32m    777\u001b[0m     Shadow(\u001b[38;5;28mself\u001b[39m\u001b[38;5;241m.\u001b[39mlegendPatch, \u001b[38;5;241m*\u001b[39m\u001b[38;5;241m*\u001b[39m\u001b[38;5;28mself\u001b[39m\u001b[38;5;241m.\u001b[39m_shadow_props)\u001b[38;5;241m.\u001b[39mdraw(renderer)\n\u001b[1;32m    779\u001b[0m \u001b[38;5;28mself\u001b[39m\u001b[38;5;241m.\u001b[39mlegendPatch\u001b[38;5;241m.\u001b[39mdraw(renderer)\n\u001b[0;32m--> 780\u001b[0m \u001b[38;5;28;43mself\u001b[39;49m\u001b[38;5;241;43m.\u001b[39;49m\u001b[43m_legend_box\u001b[49m\u001b[38;5;241;43m.\u001b[39;49m\u001b[43mdraw\u001b[49m\u001b[43m(\u001b[49m\u001b[43mrenderer\u001b[49m\u001b[43m)\u001b[49m\n\u001b[1;32m    782\u001b[0m renderer\u001b[38;5;241m.\u001b[39mclose_group(\u001b[38;5;124m'\u001b[39m\u001b[38;5;124mlegend\u001b[39m\u001b[38;5;124m'\u001b[39m)\n\u001b[1;32m    783\u001b[0m \u001b[38;5;28mself\u001b[39m\u001b[38;5;241m.\u001b[39mstale \u001b[38;5;241m=\u001b[39m \u001b[38;5;28;01mFalse\u001b[39;00m\n",
      "File \u001b[0;32m~/Desktop/screwdriving-model-sindy-rcim/venv/lib/python3.10/site-packages/matplotlib/artist.py:39\u001b[0m, in \u001b[0;36m_prevent_rasterization.<locals>.draw_wrapper\u001b[0;34m(artist, renderer, *args, **kwargs)\u001b[0m\n\u001b[1;32m     36\u001b[0m     renderer\u001b[38;5;241m.\u001b[39mstop_rasterizing()\n\u001b[1;32m     37\u001b[0m     renderer\u001b[38;5;241m.\u001b[39m_rasterizing \u001b[38;5;241m=\u001b[39m \u001b[38;5;28;01mFalse\u001b[39;00m\n\u001b[0;32m---> 39\u001b[0m \u001b[38;5;28;01mreturn\u001b[39;00m \u001b[43mdraw\u001b[49m\u001b[43m(\u001b[49m\u001b[43martist\u001b[49m\u001b[43m,\u001b[49m\u001b[43m \u001b[49m\u001b[43mrenderer\u001b[49m\u001b[43m,\u001b[49m\u001b[43m \u001b[49m\u001b[38;5;241;43m*\u001b[39;49m\u001b[43margs\u001b[49m\u001b[43m,\u001b[49m\u001b[43m \u001b[49m\u001b[38;5;241;43m*\u001b[39;49m\u001b[38;5;241;43m*\u001b[39;49m\u001b[43mkwargs\u001b[49m\u001b[43m)\u001b[49m\n",
      "File \u001b[0;32m~/Desktop/screwdriving-model-sindy-rcim/venv/lib/python3.10/site-packages/matplotlib/offsetbox.py:412\u001b[0m, in \u001b[0;36mOffsetBox.draw\u001b[0;34m(self, renderer)\u001b[0m\n\u001b[1;32m    407\u001b[0m \u001b[38;5;250m\u001b[39m\u001b[38;5;124;03m\"\"\"\u001b[39;00m\n\u001b[1;32m    408\u001b[0m \u001b[38;5;124;03mUpdate the location of children if necessary and draw them\u001b[39;00m\n\u001b[1;32m    409\u001b[0m \u001b[38;5;124;03mto the given *renderer*.\u001b[39;00m\n\u001b[1;32m    410\u001b[0m \u001b[38;5;124;03m\"\"\"\u001b[39;00m\n\u001b[1;32m    411\u001b[0m bbox, offsets \u001b[38;5;241m=\u001b[39m \u001b[38;5;28mself\u001b[39m\u001b[38;5;241m.\u001b[39m_get_bbox_and_child_offsets(renderer)\n\u001b[0;32m--> 412\u001b[0m px, py \u001b[38;5;241m=\u001b[39m \u001b[38;5;28;43mself\u001b[39;49m\u001b[38;5;241;43m.\u001b[39;49m\u001b[43mget_offset\u001b[49m\u001b[43m(\u001b[49m\u001b[43mbbox\u001b[49m\u001b[43m,\u001b[49m\u001b[43m \u001b[49m\u001b[43mrenderer\u001b[49m\u001b[43m)\u001b[49m\n\u001b[1;32m    413\u001b[0m \u001b[38;5;28;01mfor\u001b[39;00m c, (ox, oy) \u001b[38;5;129;01min\u001b[39;00m \u001b[38;5;28mzip\u001b[39m(\u001b[38;5;28mself\u001b[39m\u001b[38;5;241m.\u001b[39mget_visible_children(), offsets):\n\u001b[1;32m    414\u001b[0m     c\u001b[38;5;241m.\u001b[39mset_offset((px \u001b[38;5;241m+\u001b[39m ox, py \u001b[38;5;241m+\u001b[39m oy))\n",
      "File \u001b[0;32m~/Desktop/screwdriving-model-sindy-rcim/venv/lib/python3.10/site-packages/matplotlib/offsetbox.py:60\u001b[0m, in \u001b[0;36m_compat_get_offset.<locals>.get_offset\u001b[0;34m(self, *args, **kwargs)\u001b[0m\n\u001b[1;32m     56\u001b[0m params \u001b[38;5;241m=\u001b[39m _api\u001b[38;5;241m.\u001b[39mselect_matching_signature(sigs, \u001b[38;5;28mself\u001b[39m, \u001b[38;5;241m*\u001b[39margs, \u001b[38;5;241m*\u001b[39m\u001b[38;5;241m*\u001b[39mkwargs)\n\u001b[1;32m     57\u001b[0m bbox \u001b[38;5;241m=\u001b[39m (params[\u001b[38;5;124m\"\u001b[39m\u001b[38;5;124mbbox\u001b[39m\u001b[38;5;124m\"\u001b[39m] \u001b[38;5;28;01mif\u001b[39;00m \u001b[38;5;124m\"\u001b[39m\u001b[38;5;124mbbox\u001b[39m\u001b[38;5;124m\"\u001b[39m \u001b[38;5;129;01min\u001b[39;00m params \u001b[38;5;28;01melse\u001b[39;00m\n\u001b[1;32m     58\u001b[0m         Bbox\u001b[38;5;241m.\u001b[39mfrom_bounds(\u001b[38;5;241m-\u001b[39mparams[\u001b[38;5;124m\"\u001b[39m\u001b[38;5;124mxdescent\u001b[39m\u001b[38;5;124m\"\u001b[39m], \u001b[38;5;241m-\u001b[39mparams[\u001b[38;5;124m\"\u001b[39m\u001b[38;5;124mydescent\u001b[39m\u001b[38;5;124m\"\u001b[39m],\n\u001b[1;32m     59\u001b[0m                          params[\u001b[38;5;124m\"\u001b[39m\u001b[38;5;124mwidth\u001b[39m\u001b[38;5;124m\"\u001b[39m], params[\u001b[38;5;124m\"\u001b[39m\u001b[38;5;124mheight\u001b[39m\u001b[38;5;124m\"\u001b[39m]))\n\u001b[0;32m---> 60\u001b[0m \u001b[38;5;28;01mreturn\u001b[39;00m \u001b[43mmeth\u001b[49m\u001b[43m(\u001b[49m\u001b[43mparams\u001b[49m\u001b[43m[\u001b[49m\u001b[38;5;124;43m\"\u001b[39;49m\u001b[38;5;124;43mself\u001b[39;49m\u001b[38;5;124;43m\"\u001b[39;49m\u001b[43m]\u001b[49m\u001b[43m,\u001b[49m\u001b[43m \u001b[49m\u001b[43mbbox\u001b[49m\u001b[43m,\u001b[49m\u001b[43m \u001b[49m\u001b[43mparams\u001b[49m\u001b[43m[\u001b[49m\u001b[38;5;124;43m\"\u001b[39;49m\u001b[38;5;124;43mrenderer\u001b[39;49m\u001b[38;5;124;43m\"\u001b[39;49m\u001b[43m]\u001b[49m\u001b[43m)\u001b[49m\n",
      "File \u001b[0;32m~/Desktop/screwdriving-model-sindy-rcim/venv/lib/python3.10/site-packages/matplotlib/offsetbox.py:312\u001b[0m, in \u001b[0;36mOffsetBox.get_offset\u001b[0;34m(self, bbox, renderer)\u001b[0m\n\u001b[1;32m    297\u001b[0m \u001b[38;5;129m@_compat_get_offset\u001b[39m\n\u001b[1;32m    298\u001b[0m \u001b[38;5;28;01mdef\u001b[39;00m \u001b[38;5;21mget_offset\u001b[39m(\u001b[38;5;28mself\u001b[39m, bbox, renderer):\n\u001b[1;32m    299\u001b[0m \u001b[38;5;250m    \u001b[39m\u001b[38;5;124;03m\"\"\"\u001b[39;00m\n\u001b[1;32m    300\u001b[0m \u001b[38;5;124;03m    Return the offset as a tuple (x, y).\u001b[39;00m\n\u001b[1;32m    301\u001b[0m \n\u001b[0;32m   (...)\u001b[0m\n\u001b[1;32m    309\u001b[0m \u001b[38;5;124;03m    renderer : `.RendererBase` subclass\u001b[39;00m\n\u001b[1;32m    310\u001b[0m \u001b[38;5;124;03m    \"\"\"\u001b[39;00m\n\u001b[1;32m    311\u001b[0m     \u001b[38;5;28;01mreturn\u001b[39;00m (\n\u001b[0;32m--> 312\u001b[0m         \u001b[38;5;28;43mself\u001b[39;49m\u001b[38;5;241;43m.\u001b[39;49m\u001b[43m_offset\u001b[49m\u001b[43m(\u001b[49m\u001b[43mbbox\u001b[49m\u001b[38;5;241;43m.\u001b[39;49m\u001b[43mwidth\u001b[49m\u001b[43m,\u001b[49m\u001b[43m \u001b[49m\u001b[43mbbox\u001b[49m\u001b[38;5;241;43m.\u001b[39;49m\u001b[43mheight\u001b[49m\u001b[43m,\u001b[49m\u001b[43m \u001b[49m\u001b[38;5;241;43m-\u001b[39;49m\u001b[43mbbox\u001b[49m\u001b[38;5;241;43m.\u001b[39;49m\u001b[43mx0\u001b[49m\u001b[43m,\u001b[49m\u001b[43m \u001b[49m\u001b[38;5;241;43m-\u001b[39;49m\u001b[43mbbox\u001b[49m\u001b[38;5;241;43m.\u001b[39;49m\u001b[43my0\u001b[49m\u001b[43m,\u001b[49m\u001b[43m \u001b[49m\u001b[43mrenderer\u001b[49m\u001b[43m)\u001b[49m\n\u001b[1;32m    313\u001b[0m         \u001b[38;5;28;01mif\u001b[39;00m \u001b[38;5;28mcallable\u001b[39m(\u001b[38;5;28mself\u001b[39m\u001b[38;5;241m.\u001b[39m_offset)\n\u001b[1;32m    314\u001b[0m         \u001b[38;5;28;01melse\u001b[39;00m \u001b[38;5;28mself\u001b[39m\u001b[38;5;241m.\u001b[39m_offset)\n",
      "File \u001b[0;32m~/Desktop/screwdriving-model-sindy-rcim/venv/lib/python3.10/site-packages/matplotlib/legend.py:738\u001b[0m, in \u001b[0;36mLegend._findoffset\u001b[0;34m(self, width, height, xdescent, ydescent, renderer)\u001b[0m\n\u001b[1;32m    735\u001b[0m \u001b[38;5;250m\u001b[39m\u001b[38;5;124;03m\"\"\"Helper function to locate the legend.\"\"\"\u001b[39;00m\n\u001b[1;32m    737\u001b[0m \u001b[38;5;28;01mif\u001b[39;00m \u001b[38;5;28mself\u001b[39m\u001b[38;5;241m.\u001b[39m_loc \u001b[38;5;241m==\u001b[39m \u001b[38;5;241m0\u001b[39m:  \u001b[38;5;66;03m# \"best\".\u001b[39;00m\n\u001b[0;32m--> 738\u001b[0m     x, y \u001b[38;5;241m=\u001b[39m \u001b[38;5;28;43mself\u001b[39;49m\u001b[38;5;241;43m.\u001b[39;49m\u001b[43m_find_best_position\u001b[49m\u001b[43m(\u001b[49m\u001b[43mwidth\u001b[49m\u001b[43m,\u001b[49m\u001b[43m \u001b[49m\u001b[43mheight\u001b[49m\u001b[43m,\u001b[49m\u001b[43m \u001b[49m\u001b[43mrenderer\u001b[49m\u001b[43m)\u001b[49m\n\u001b[1;32m    739\u001b[0m \u001b[38;5;28;01melif\u001b[39;00m \u001b[38;5;28mself\u001b[39m\u001b[38;5;241m.\u001b[39m_loc \u001b[38;5;129;01min\u001b[39;00m Legend\u001b[38;5;241m.\u001b[39mcodes\u001b[38;5;241m.\u001b[39mvalues():  \u001b[38;5;66;03m# Fixed location.\u001b[39;00m\n\u001b[1;32m    740\u001b[0m     bbox \u001b[38;5;241m=\u001b[39m Bbox\u001b[38;5;241m.\u001b[39mfrom_bounds(\u001b[38;5;241m0\u001b[39m, \u001b[38;5;241m0\u001b[39m, width, height)\n",
      "File \u001b[0;32m~/Desktop/screwdriving-model-sindy-rcim/venv/lib/python3.10/site-packages/matplotlib/legend.py:1186\u001b[0m, in \u001b[0;36mLegend._find_best_position\u001b[0;34m(self, width, height, renderer, consider)\u001b[0m\n\u001b[1;32m   1183\u001b[0m badness \u001b[38;5;241m=\u001b[39m \u001b[38;5;241m0\u001b[39m\n\u001b[1;32m   1184\u001b[0m \u001b[38;5;66;03m# XXX TODO: If markers are present, it would be good to take them\u001b[39;00m\n\u001b[1;32m   1185\u001b[0m \u001b[38;5;66;03m# into account when checking vertex overlaps in the next line.\u001b[39;00m\n\u001b[0;32m-> 1186\u001b[0m badness \u001b[38;5;241m=\u001b[39m (\u001b[38;5;28;43msum\u001b[39;49m\u001b[43m(\u001b[49m\u001b[43mlegendBox\u001b[49m\u001b[38;5;241;43m.\u001b[39;49m\u001b[43mcount_contains\u001b[49m\u001b[43m(\u001b[49m\u001b[43mline\u001b[49m\u001b[38;5;241;43m.\u001b[39;49m\u001b[43mvertices\u001b[49m\u001b[43m)\u001b[49m\n\u001b[1;32m   1187\u001b[0m \u001b[43m               \u001b[49m\u001b[38;5;28;43;01mfor\u001b[39;49;00m\u001b[43m \u001b[49m\u001b[43mline\u001b[49m\u001b[43m \u001b[49m\u001b[38;5;129;43;01min\u001b[39;49;00m\u001b[43m \u001b[49m\u001b[43mlines\u001b[49m\u001b[43m)\u001b[49m\n\u001b[1;32m   1188\u001b[0m            \u001b[38;5;241m+\u001b[39m legendBox\u001b[38;5;241m.\u001b[39mcount_contains(offsets)\n\u001b[1;32m   1189\u001b[0m            \u001b[38;5;241m+\u001b[39m legendBox\u001b[38;5;241m.\u001b[39mcount_overlaps(bboxes)\n\u001b[1;32m   1190\u001b[0m            \u001b[38;5;241m+\u001b[39m \u001b[38;5;28msum\u001b[39m(line\u001b[38;5;241m.\u001b[39mintersects_bbox(legendBox, filled\u001b[38;5;241m=\u001b[39m\u001b[38;5;28;01mFalse\u001b[39;00m)\n\u001b[1;32m   1191\u001b[0m                  \u001b[38;5;28;01mfor\u001b[39;00m line \u001b[38;5;129;01min\u001b[39;00m lines))\n\u001b[1;32m   1192\u001b[0m \u001b[38;5;28;01mif\u001b[39;00m badness \u001b[38;5;241m==\u001b[39m \u001b[38;5;241m0\u001b[39m:\n\u001b[1;32m   1193\u001b[0m     \u001b[38;5;28;01mreturn\u001b[39;00m l, b\n",
      "File \u001b[0;32m~/Desktop/screwdriving-model-sindy-rcim/venv/lib/python3.10/site-packages/matplotlib/legend.py:1186\u001b[0m, in \u001b[0;36m<genexpr>\u001b[0;34m(.0)\u001b[0m\n\u001b[1;32m   1183\u001b[0m badness \u001b[38;5;241m=\u001b[39m \u001b[38;5;241m0\u001b[39m\n\u001b[1;32m   1184\u001b[0m \u001b[38;5;66;03m# XXX TODO: If markers are present, it would be good to take them\u001b[39;00m\n\u001b[1;32m   1185\u001b[0m \u001b[38;5;66;03m# into account when checking vertex overlaps in the next line.\u001b[39;00m\n\u001b[0;32m-> 1186\u001b[0m badness \u001b[38;5;241m=\u001b[39m (\u001b[38;5;28msum\u001b[39m(\u001b[43mlegendBox\u001b[49m\u001b[38;5;241;43m.\u001b[39;49m\u001b[43mcount_contains\u001b[49m\u001b[43m(\u001b[49m\u001b[43mline\u001b[49m\u001b[38;5;241;43m.\u001b[39;49m\u001b[43mvertices\u001b[49m\u001b[43m)\u001b[49m\n\u001b[1;32m   1187\u001b[0m                \u001b[38;5;28;01mfor\u001b[39;00m line \u001b[38;5;129;01min\u001b[39;00m lines)\n\u001b[1;32m   1188\u001b[0m            \u001b[38;5;241m+\u001b[39m legendBox\u001b[38;5;241m.\u001b[39mcount_contains(offsets)\n\u001b[1;32m   1189\u001b[0m            \u001b[38;5;241m+\u001b[39m legendBox\u001b[38;5;241m.\u001b[39mcount_overlaps(bboxes)\n\u001b[1;32m   1190\u001b[0m            \u001b[38;5;241m+\u001b[39m \u001b[38;5;28msum\u001b[39m(line\u001b[38;5;241m.\u001b[39mintersects_bbox(legendBox, filled\u001b[38;5;241m=\u001b[39m\u001b[38;5;28;01mFalse\u001b[39;00m)\n\u001b[1;32m   1191\u001b[0m                  \u001b[38;5;28;01mfor\u001b[39;00m line \u001b[38;5;129;01min\u001b[39;00m lines))\n\u001b[1;32m   1192\u001b[0m \u001b[38;5;28;01mif\u001b[39;00m badness \u001b[38;5;241m==\u001b[39m \u001b[38;5;241m0\u001b[39m:\n\u001b[1;32m   1193\u001b[0m     \u001b[38;5;28;01mreturn\u001b[39;00m l, b\n",
      "File \u001b[0;32m~/Desktop/screwdriving-model-sindy-rcim/venv/lib/python3.10/site-packages/matplotlib/transforms.py:582\u001b[0m, in \u001b[0;36mBboxBase.count_contains\u001b[0;34m(self, vertices)\u001b[0m\n\u001b[1;32m    580\u001b[0m vertices \u001b[38;5;241m=\u001b[39m np\u001b[38;5;241m.\u001b[39masarray(vertices)\n\u001b[1;32m    581\u001b[0m \u001b[38;5;28;01mwith\u001b[39;00m np\u001b[38;5;241m.\u001b[39merrstate(invalid\u001b[38;5;241m=\u001b[39m\u001b[38;5;124m'\u001b[39m\u001b[38;5;124mignore\u001b[39m\u001b[38;5;124m'\u001b[39m):\n\u001b[0;32m--> 582\u001b[0m     \u001b[38;5;28;01mreturn\u001b[39;00m (\u001b[43m(\u001b[49m\u001b[43m(\u001b[49m\u001b[38;5;28;43mself\u001b[39;49m\u001b[38;5;241;43m.\u001b[39;49m\u001b[43mmin\u001b[49m\u001b[43m \u001b[49m\u001b[38;5;241;43m<\u001b[39;49m\u001b[43m \u001b[49m\u001b[43mvertices\u001b[49m\u001b[43m)\u001b[49m\u001b[43m \u001b[49m\u001b[38;5;241;43m&\u001b[39;49m\n\u001b[1;32m    583\u001b[0m \u001b[43m             \u001b[49m\u001b[43m(\u001b[49m\u001b[43mvertices\u001b[49m\u001b[43m \u001b[49m\u001b[38;5;241;43m<\u001b[39;49m\u001b[43m \u001b[49m\u001b[38;5;28;43mself\u001b[39;49m\u001b[38;5;241;43m.\u001b[39;49m\u001b[43mmax\u001b[49m\u001b[43m)\u001b[49m\u001b[43m)\u001b[49m\u001b[38;5;241;43m.\u001b[39;49m\u001b[43mall\u001b[49m\u001b[43m(\u001b[49m\u001b[43maxis\u001b[49m\u001b[38;5;241;43m=\u001b[39;49m\u001b[38;5;241;43m1\u001b[39;49m\u001b[43m)\u001b[49m\u001b[38;5;241m.\u001b[39msum())\n",
      "File \u001b[0;32m~/Desktop/screwdriving-model-sindy-rcim/venv/lib/python3.10/site-packages/numpy/core/_methods.py:61\u001b[0m, in \u001b[0;36m_all\u001b[0;34m(a, axis, dtype, out, keepdims, where)\u001b[0m\n\u001b[1;32m     58\u001b[0m         \u001b[38;5;28;01mreturn\u001b[39;00m umr_any(a, axis, dtype, out, keepdims)\n\u001b[1;32m     59\u001b[0m     \u001b[38;5;28;01mreturn\u001b[39;00m umr_any(a, axis, dtype, out, keepdims, where\u001b[38;5;241m=\u001b[39mwhere)\n\u001b[0;32m---> 61\u001b[0m \u001b[38;5;28;01mdef\u001b[39;00m \u001b[38;5;21m_all\u001b[39m(a, axis\u001b[38;5;241m=\u001b[39m\u001b[38;5;28;01mNone\u001b[39;00m, dtype\u001b[38;5;241m=\u001b[39m\u001b[38;5;28;01mNone\u001b[39;00m, out\u001b[38;5;241m=\u001b[39m\u001b[38;5;28;01mNone\u001b[39;00m, keepdims\u001b[38;5;241m=\u001b[39m\u001b[38;5;28;01mFalse\u001b[39;00m, \u001b[38;5;241m*\u001b[39m, where\u001b[38;5;241m=\u001b[39m\u001b[38;5;28;01mTrue\u001b[39;00m):\n\u001b[1;32m     62\u001b[0m     \u001b[38;5;66;03m# Parsing keyword arguments is currently fairly slow, so avoid it for now\u001b[39;00m\n\u001b[1;32m     63\u001b[0m     \u001b[38;5;28;01mif\u001b[39;00m where \u001b[38;5;129;01mis\u001b[39;00m \u001b[38;5;28;01mTrue\u001b[39;00m:\n\u001b[1;32m     64\u001b[0m         \u001b[38;5;28;01mreturn\u001b[39;00m umr_all(a, axis, dtype, out, keepdims)\n",
      "\u001b[0;31mKeyboardInterrupt\u001b[0m: "
     ]
    }
   ],
   "source": [
    "for idx, model_name in enumerate(model_checkpoints):\n",
    "    with warnings.catch_warnings():\n",
    "        warnings.filterwarnings(\"ignore\", category=RuntimeWarning)\n",
    "        \n",
    "        with torch.no_grad():\n",
    "            model = SindyModel(**vars(ARGS))\n",
    "            model.load_state_dict(torch.load(os.path.join(model_dir, model_name)))\n",
    "            model.eval()\n",
    "    \n",
    "            pred_y = model(test_x).numpy()\n",
    "            pred_y = pred_y.reshape(pred_y.shape[0], pred_y.shape[-1]).astype(np.complex64)\n",
    "    \n",
    "            reference_signal_x = np.copy(test_y)[:, 0]\n",
    "            target_signal_x = pred_y[:, 0]\n",
    "            result_vx = minimize(signal_error, initial_guess.copy(), args=(reference_signal_x, target_signal_x), method='Nelder-Mead')\n",
    "            adjusted_vx = adjust_signal(target_signal_x, *result_vx.x)\n",
    "    \n",
    "            reference_signal_y = np.copy(test_y)[:, 1]\n",
    "            target_signal_y = pred_y[:, 1]\n",
    "            result_vy = minimize(signal_error, initial_guess.copy(), args=(reference_signal_y, target_signal_y), method='Nelder-Mead')\n",
    "            adjusted_vy = adjust_signal(target_signal_y, *result_vy.x)\n",
    "    \n",
    "            plot_signals([pred_y[:, 0], pred_y[:, 1]], [adjusted_vx, adjusted_vy], [reference_signal_x, reference_signal_y], model_name, False)\n",
    "    \n",
    "            final_x_error = signal_error(result_vx.x, reference_signal_x, adjusted_vx)\n",
    "            final_y_error = signal_error(result_vy.x, reference_signal_y, adjusted_vy)\n",
    "    \n",
    "            print(f'#: {idx}, model: {model_name}, vx_err: {final_x_error}, vx_params: {result_vx.x}, vy_err: {final_y_error}, vy_params: {result_vy.x}')\n",
    "            \n",
    "            model_final_results.append((model_name, np.real(final_x_error), *result_vx.x, np.real(final_y_error), *result_vy.x))\n",
    "            "
   ]
  },
  {
   "cell_type": "code",
   "execution_count": null,
   "id": "d723ee5b-ec30-4106-a1f8-7c24e78637f2",
   "metadata": {},
   "outputs": [],
   "source": [
    "out_file_path = os.path.join(out_dir, 'cumulative_results.csv')\n",
    "np.savetxt(out_file_path, model_final_results, fmt='%s', delimiter=',')"
   ]
  },
  {
   "cell_type": "code",
   "execution_count": null,
   "id": "9391bca0-ea7f-4d41-9dd5-fb978ad1dfd4",
   "metadata": {},
   "outputs": [],
   "source": [
    "headers = ['model_name', 'vx_error', 'mean_adjustment_vx', 'time_shift_vx', 'vy_error', 'mean_adjustment_vy', 'time_shift_vy']\n",
    "\n",
    "with open(out_file_path, 'r+') as fh:\n",
    "    content = fh.read()\n",
    "    fh.seek(0, 0)\n",
    "    fh.write(','.join(headers) + '\\n' + content)\n"
   ]
  },
  {
   "cell_type": "code",
   "execution_count": null,
   "id": "30b22b04-a007-4eb7-b87f-78ba55546251",
   "metadata": {},
   "outputs": [],
   "source": []
  }
 ],
 "metadata": {
  "kernelspec": {
   "display_name": "Python 3 (ipykernel)",
   "language": "python",
   "name": "python3"
  },
  "language_info": {
   "codemirror_mode": {
    "name": "ipython",
    "version": 3
   },
   "file_extension": ".py",
   "mimetype": "text/x-python",
   "name": "python",
   "nbconvert_exporter": "python",
   "pygments_lexer": "ipython3",
   "version": "3.10.12"
  }
 },
 "nbformat": 4,
 "nbformat_minor": 5
}
