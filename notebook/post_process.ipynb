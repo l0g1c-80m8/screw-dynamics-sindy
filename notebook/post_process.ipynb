{
 "cells": [
  {
   "cell_type": "code",
   "execution_count": 1,
   "id": "3c99e75f-dbcb-491d-92c0-d38e861ecf98",
   "metadata": {},
   "outputs": [],
   "source": [
    "import sys\n",
    "sys.path.append('../')"
   ]
  },
  {
   "cell_type": "code",
   "execution_count": 2,
   "id": "7ddc542e-59e3-4215-b303-f60402f5133d",
   "metadata": {},
   "outputs": [],
   "source": [
    "import matplotlib.pyplot as plt\n",
    "import numpy as np\n",
    "import os\n",
    "import torch\n",
    "import warnings\n",
    "from scipy.optimize import minimize\n",
    "from torch.utils.data import DataLoader\n",
    "\n",
    "from src.model import SindyModel\n",
    "from src.main import get_args\n",
    "from src.dataloader import ScrewdrivingDataset"
   ]
  },
  {
   "cell_type": "code",
   "execution_count": 3,
   "id": "7de687ee-b4c7-4c62-8453-195a1120e03f",
   "metadata": {},
   "outputs": [
    {
     "name": "stdout",
     "output_type": "stream",
     "text": [
      "found 1441 models\n"
     ]
    }
   ],
   "source": [
    "ARGS = get_args()\n",
    "data_dir = os.path.join('..', 'out', 'sindy-data')\n",
    "model_dir = os.path.join('..', 'out', 'sindy-model-out', 'checkpoints')\n",
    "out_dir = os.path.join('..', 'out', 'sindy-out-processed')\n",
    "os.makedirs(out_dir, exist_ok=True)\n",
    "model_checkpoints = sorted(filter(lambda f: f.endswith('.pth'), os.listdir(model_dir)))\n",
    "print(f'found {len(model_checkpoints)} models')"
   ]
  },
  {
   "cell_type": "code",
   "execution_count": 4,
   "id": "bb26919a-8237-47f2-890f-c20d4f14aacf",
   "metadata": {},
   "outputs": [
    {
     "data": {
      "text/plain": [
       "<contextlib.ExitStack at 0x79ccbc56b5e0>"
      ]
     },
     "execution_count": 4,
     "metadata": {},
     "output_type": "execute_result"
    }
   ],
   "source": [
    "%matplotlib inline\n",
    "plt.ioff()"
   ]
  },
  {
   "cell_type": "code",
   "execution_count": 5,
   "id": "04bf4351-b1cf-4e66-9528-894e992e33ab",
   "metadata": {},
   "outputs": [],
   "source": [
    "def signal_error(params, reference_signal, target_signal):\n",
    "    adjusted_signal = adjust_signal(target_signal, *params)\n",
    "    return np.sum((reference_signal - adjusted_signal) ** 2)\n",
    "\n",
    "def adjust_signal(target_signal, mean_adjustment, time_shift):\n",
    "    shifted_target_signal = np.interp(np.arange(len(target_signal)), np.arange(len(target_signal)) - time_shift, target_signal)\n",
    "    return shifted_target_signal + mean_adjustment"
   ]
  },
  {
   "cell_type": "code",
   "execution_count": 6,
   "id": "7a68250c-8a58-42f4-90f0-4a4157905003",
   "metadata": {},
   "outputs": [],
   "source": [
    "def plot_signals(\n",
    "    pred_signals, \n",
    "    adjusted_signals, \n",
    "    reference_signals,\n",
    "    model_name,\n",
    "    show_plot=False,\n",
    "    title=\"Signal Comparison\"\n",
    "):\n",
    "    with warnings.catch_warnings():\n",
    "        warnings.filterwarnings(\"ignore\", category=RuntimeWarning)\n",
    "        \n",
    "        t = np.arange(len(pred_signals[0]))\n",
    "        \n",
    "        fig, axs = plt.subplots(1, 2, figsize=(15, 10))\n",
    "        \n",
    "        axs[0].plot(t, pred_signals[0], label='Predicted Signal Vx')\n",
    "        axs[0].set_ylabel('Amplitude')\n",
    "        axs[0].legend()\n",
    "        axs[0].grid(True)\n",
    "        \n",
    "        axs[1].plot(t, pred_signals[1], label='Predicted Signal Vy')\n",
    "        axs[1].set_ylabel('Amplitude')\n",
    "        axs[1].legend()\n",
    "        axs[1].grid(True)\n",
    "        \n",
    "        axs[0].plot(t, adjusted_signals[0], label='Adjusted Signal Vx', dashes=[6, 2])\n",
    "        axs[0].set_ylabel('Amplitude')\n",
    "        axs[0].legend()\n",
    "        axs[0].grid(True)\n",
    "        \n",
    "        axs[1].plot(t, adjusted_signals[1], label='Adjusted Signal Vy', dashes=[6, 2])\n",
    "        axs[1].set_ylabel('Amplitude')\n",
    "        axs[1].legend()\n",
    "        axs[1].grid(True)\n",
    "        \n",
    "        axs[0].plot(t, reference_signals[0], label='Reference Signal Vx')\n",
    "        axs[0].set_xlabel('Time')\n",
    "        axs[0].set_ylabel('Amplitude')\n",
    "        axs[0].legend()\n",
    "        axs[0].grid(True)\n",
    "        \n",
    "        axs[1].plot(t, reference_signals[1], label='Reference Signal Vy')\n",
    "        axs[1].set_xlabel('Time')\n",
    "        axs[1].set_ylabel('Amplitude')\n",
    "        axs[1].legend()\n",
    "        axs[1].grid(True)\n",
    "        \n",
    "        fig.suptitle(title)\n",
    "        plt.tight_layout()\n",
    "\n",
    "        plt.savefig(os.path.join(out_dir, f'{model_name}.png'))\n",
    "\n",
    "        if show_plot:\n",
    "            plt.show()\n"
   ]
  },
  {
   "cell_type": "code",
   "execution_count": 7,
   "id": "013e2700-1247-4f71-a368-e32e59136be2",
   "metadata": {},
   "outputs": [],
   "source": [
    "model_final_results = []\n",
    "\n",
    "test_loader = DataLoader(ScrewdrivingDataset(mode='test', **{**vars(ARGS), 'data_dir': data_dir}))\n",
    "test_x = torch.cat([batch[0] for batch in test_loader], dim=0)\n",
    "\n",
    "test_y = [batch[1].numpy() for batch in DataLoader(ScrewdrivingDataset(mode='test', **{**vars(ARGS), 'data_dir': data_dir}))]\n",
    "test_y = np.concatenate(test_y, axis=0)\n",
    "test_y = test_y.reshape(test_y.shape[0], test_y.shape[-1])\n",
    "\n",
    "initial_guess = [0., 0.]"
   ]
  },
  {
   "cell_type": "code",
   "execution_count": 8,
   "id": "79dd68eb-f154-47bf-b0d6-93038f10e6b5",
   "metadata": {},
   "outputs": [
    {
     "name": "stdout",
     "output_type": "stream",
     "text": [
      "Model: model_2024-05-09 22:01:42.786493.pth, vx err: (229.44934380265943+0j), vx_params: [0.8745272  1.46131171], vy_err: (342.50971532630604+0j), vy_params: [ 1.06841511 -0.2873906 ]\n"
     ]
    }
   ],
   "source": [
    "for model_name in model_checkpoints[:1]:\n",
    "    with warnings.catch_warnings():\n",
    "        warnings.filterwarnings(\"ignore\", category=RuntimeWarning)\n",
    "        \n",
    "        with torch.no_grad():\n",
    "            model = SindyModel(**vars(ARGS))\n",
    "            model.load_state_dict(torch.load(os.path.join(model_dir, model_name)))\n",
    "            model.eval()\n",
    "    \n",
    "            pred_y = model(test_x).numpy()\n",
    "            pred_y = pred_y.reshape(pred_y.shape[0], pred_y.shape[-1]).astype(np.complex64)\n",
    "    \n",
    "            reference_signal_x = np.copy(test_y)[:, 0]\n",
    "            target_signal_x = pred_y[:, 0]\n",
    "            result_vx = minimize(signal_error, initial_guess.copy(), args=(reference_signal_x, target_signal_x), method='Nelder-Mead')\n",
    "            adjusted_vx = adjust_signal(target_signal_x, *result_vx.x)\n",
    "    \n",
    "            reference_signal_y = np.copy(test_y)[:, 1]\n",
    "            target_signal_y = pred_y[:, 1]\n",
    "            result_vy = minimize(signal_error, initial_guess.copy(), args=(reference_signal_y, target_signal_y), method='Nelder-Mead')\n",
    "            adjusted_vy = adjust_signal(target_signal_y, *result_vy.x)\n",
    "    \n",
    "            plot_signals([pred_y[:, 0], pred_y[:, 1]], [adjusted_vx, adjusted_vy], [reference_signal_x, reference_signal_y], model_name, False)\n",
    "    \n",
    "            final_x_error = signal_error(result_vx.x, reference_signal_x, adjusted_vx)\n",
    "            final_y_error = signal_error(result_vy.x, reference_signal_y, adjusted_vy)\n",
    "    \n",
    "            print(f'Model: {model_name}, vx err: {final_x_error}, vx_params: {result_vx.x}, vy_err: {final_y_error}, vy_params: {result_vy.x}')\n",
    "            \n",
    "            model_final_results.append((model_name, final_x_error, *result_vx.x, final_y_error, *result_vy.x))\n",
    "            "
   ]
  },
  {
   "cell_type": "code",
   "execution_count": 9,
   "id": "d723ee5b-ec30-4106-a1f8-7c24e78637f2",
   "metadata": {},
   "outputs": [],
   "source": [
    "out_file_path = os.path.join(out_dir, 'cumulative_results.csv')\n",
    "np.savetxt(out_file_path, model_final_results, fmt='%s', delimiter=',')"
   ]
  },
  {
   "cell_type": "code",
   "execution_count": 10,
   "id": "9391bca0-ea7f-4d41-9dd5-fb978ad1dfd4",
   "metadata": {},
   "outputs": [],
   "source": [
    "headers = ['model_name', 'vx_error', 'mean_adjustment_vx', 'time_shift_vx', 'vy_error', 'mean_adjustment_vy', 'time_shift_vy']\n",
    "\n",
    "with open(out_file_path, 'r+') as f:\n",
    "    content = f.read()\n",
    "    f.seek(0, 0)\n",
    "    f.write(','.join(headers) + '\\n' + content)\n"
   ]
  },
  {
   "cell_type": "code",
   "execution_count": null,
   "id": "30b22b04-a007-4eb7-b87f-78ba55546251",
   "metadata": {},
   "outputs": [],
   "source": []
  }
 ],
 "metadata": {
  "kernelspec": {
   "display_name": "Python 3 (ipykernel)",
   "language": "python",
   "name": "python3"
  },
  "language_info": {
   "codemirror_mode": {
    "name": "ipython",
    "version": 3
   },
   "file_extension": ".py",
   "mimetype": "text/x-python",
   "name": "python",
   "nbconvert_exporter": "python",
   "pygments_lexer": "ipython3",
   "version": "3.10.12"
  }
 },
 "nbformat": 4,
 "nbformat_minor": 5
}
