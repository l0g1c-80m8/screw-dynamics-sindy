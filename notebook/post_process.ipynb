{
 "cells": [
  {
   "cell_type": "code",
   "execution_count": 1,
   "id": "3c99e75f-dbcb-491d-92c0-d38e861ecf98",
   "metadata": {},
   "source": [
    "import sys\n",
    "sys.path.append('../')"
   ],
   "outputs": []
  },
  {
   "cell_type": "code",
   "execution_count": 2,
   "id": "7ddc542e-59e3-4215-b303-f60402f5133d",
   "metadata": {},
   "source": [
    "import numpy as np\n",
    "import os\n",
    "import torch\n",
    "from scipy.optimize import minimize\n",
    "from torch.utils.data import DataLoader\n",
    "\n",
    "from src.model import SindyModel\n",
    "from src.main import get_args\n",
    "from src.dataloader import ScrewdrivingDataset"
   ],
   "outputs": []
  },
  {
   "cell_type": "code",
   "execution_count": 3,
   "id": "7de687ee-b4c7-4c62-8453-195a1120e03f",
   "metadata": {},
   "source": [
    "ARGS = get_args()\n",
    "data_dir = os.path.join('..', 'out', 'sindy-data')\n",
    "model_dir = os.path.join('..', 'out', 'sindy-model-out', 'checkpoints')\n",
    "model_checkpoints = sorted(filter(lambda f: f.endswith('.pth'), os.listdir(model_dir)))\n",
    "print(f'found {len(model_checkpoints)} models')"
   ],
   "outputs": []
  },
  {
   "cell_type": "code",
   "execution_count": 4,
   "id": "013e2700-1247-4f71-a368-e32e59136be2",
   "metadata": {},
   "source": [
    "model_eval_dict = {}\n",
    "test_x = [batch[0].numpy() for batch in DataLoader(ScrewdrivingDataset(mode='test', **{**vars(ARGS), 'data_dir': data_dir}))]\n",
    "test_x = np.concatenate(test_x, axis=0)\n",
    "test_x = test_x.reshape(test_x.shape[0], test_x.shape[-1])\n",
    "test_y = [batch[1].numpy() for batch in DataLoader(ScrewdrivingDataset(mode='test', **{**vars(ARGS), 'data_dir': data_dir}))]\n",
    "test_y = np.concatenate(test_y, axis=0)\n",
    "test_y = test_y.reshape(test_y.shape[0], test_y.shape[-1])"
   ],
   "outputs": []
  },
  {
   "cell_type": "code",
   "execution_count": 5,
   "id": "8ac0c4ed-6035-41f3-97dc-3d0dee9333ab",
   "metadata": {},
   "source": [
    "for model_name in model_checkpoints:\n",
    "    with torch.no_grad():\n",
    "        model = SindyModel(**vars(ARGS))\n",
    "        model.load_state_dict(torch.load(os.path.join(model_dir, model_name)))\n",
    "        model.eval()\n",
    "        \n",
    "        result = minimize(signal_error, initial_guess, args=(reference_signal, target_signal), method='Nelder-Mead')\n",
    "        "
   ],
   "outputs": []
  },
  {
   "cell_type": "code",
   "execution_count": null,
   "id": "f9202cb7-5b02-4014-8df8-5cdc245a00fc",
   "metadata": {},
   "source": [],
   "outputs": []
  },
  {
   "cell_type": "code",
   "execution_count": null,
   "id": "21d6279d-a35a-4164-b334-cff4f7b6e0b4",
   "metadata": {},
   "source": [],
   "outputs": []
  }
 ],
 "metadata": {
  "kernelspec": {
   "display_name": "Python 3 (ipykernel)",
   "language": "python",
   "name": "python3"
  },
  "language_info": {
   "codemirror_mode": {
    "name": "ipython",
    "version": 3
   },
   "file_extension": ".py",
   "mimetype": "text/x-python",
   "name": "python",
   "nbconvert_exporter": "python",
   "pygments_lexer": "ipython3",
   "version": "3.10.12"
  }
 },
 "nbformat": 4,
 "nbformat_minor": 5
}
