{
 "cells": [
  {
   "cell_type": "code",
   "execution_count": 1,
   "id": "ca5d5deb-46e5-47d6-9d21-5e3e6a019fe2",
   "metadata": {},
   "outputs": [],
   "source": [
    "import os\n",
    "import pandas as pd\n",
    "import matplotlib.pyplot as plt\n",
    "import numpy as np\n",
    "from mpl_toolkits.mplot3d import Axes3D \n",
    "import matplotlib.pyplot as plt\n",
    "import plotly.graph_objs as go\n",
    "import plotly.express as px\n",
    "from scipy.signal import savgol_filter"
   ]
  },
  {
   "cell_type": "code",
   "execution_count": 2,
   "id": "1ba31f9a-6bcc-4991-996c-1a545beed30b",
   "metadata": {},
   "outputs": [],
   "source": [
    "data_dir = '../out/Screwdriving Model Experiments'\n",
    "observation_file = 'observation_data.csv'\n",
    "raw_observation_file = 'raw_observation_data.csv'\n",
    "out_file = 'smoothed_observation_data.csv'\n",
    "sensor_file = 'sensor_data.csv'\n",
    "merged_file = 'merged_data.csv'\n",
    "subdirs = os.listdir(data_dir)\n",
    "files = list(map(lambda sd: os.path.join(data_dir, sd, observation_file), subdirs))\n",
    "# files"
   ]
  },
  {
   "cell_type": "code",
   "execution_count": null,
   "id": "6b0413ac-3ad6-4f60-98ad-2845ec146cdb",
   "metadata": {},
   "outputs": [],
   "source": [
    "intrinsics_matrix_left = np.array([\n",
    "    [955.717, 0, 940.365],\n",
    "    [0, 955.717, 552.377],\n",
    "    [0, 0, 1]\n",
    "])\n",
    "\n",
    "def pixel_to_3d(pixel_x, pixel_y, depth, intrinsics_matrix=intrinsics_matrix_left):\n",
    "    pixel_homogeneous = np.array([[pixel_x], [pixel_y], [1]])\n",
    "    K_inv = np.linalg.inv(intrinsics_matrix)\n",
    "    pixel_depth = np.array([[pixel_x * depth], [pixel_y * depth], [depth]])\n",
    "    coordinate_3d = np.dot(K_inv, pixel_depth)\n",
    "\n",
    "    return coordinate_3d.reshape(3,).tolist()"
   ]
  },
  {
   "cell_type": "code",
   "execution_count": 3,
   "id": "7912d9ce-8377-4b80-bcf6-2a52d9fdfdd6",
   "metadata": {
    "scrolled": true
   },
   "outputs": [],
   "source": [
    "for subdir in subdirs:\n",
    "    raw_observation_path = os.path.join(data_dir, subdir, raw_observation_file)\n",
    "    df = pd.read_csv(raw_observation_path)\n",
    "    df.interpolate(method='linear', axis=0, inplace=True)\n",
    "    df.interpolate(method='backfill', axis=0, inplace=True)\n",
    "    \n",
    "    # df['X'] = df['X'].ewm(alpha=0.3).mean()\n",
    "    # df['Y'] = df['Y'].ewm(alpha=0.3).mean()\n",
    "    # df['Z'] = df['Z'].ewm(alpha=0.9).mean()\n",
    "    # df['X'] = savgol_filter(df['X'], window_length=10, polyorder=4)\n",
    "    # df['Y'] = savgol_filter(df['Y'], window_length=10, polyorder=4)\n",
    "    # df['Z'] = savgol_filter(df['Z'], window_length=10, polyorder=4)\n",
    "    \n",
    "\n",
    "    for column in ['X', 'Y', 'Z']:\n",
    "        df[column] = savgol_filter(df[column], window_length=10, polyorder=4)\n",
    "        # df[column] = df[column].rolling(window=3, min_periods=1).mean()\n",
    "    df = df.assign(Z=df['Z'].iloc[-20:].mean())\n",
    "\n",
    "    out_path = os.path.join(data_dir, subdir, out_file)\n",
    "    df.to_csv(out_path, index=False)\n",
    "\n",
    "    for row in range(df.shape[0]):\n",
    "        coord = pixel_to_3d(df['X'].iloc[row], df['Y'].iloc[row], df['Z'].iloc[row])\n",
    "        df['X']\n",
    "\n",
    "        \n",
    "    fig = go.Figure(data=[go.Scatter3d(\n",
    "        x=df['X'],\n",
    "        y=df['Y'],\n",
    "        z=df['Z'],\n",
    "        mode='markers',\n",
    "        marker=dict(\n",
    "            size=1,\n",
    "            opacity=0.8\n",
    "        ),\n",
    "    )])\n",
    "    fig.update_layout(width=800, height=800)\n",
    "    fig.show()\n"
   ]
  },
  {
   "cell_type": "code",
   "execution_count": null,
   "id": "b42b05e5-fe3d-48ac-a9b8-a140382e3152",
   "metadata": {},
   "outputs": [],
   "source": []
  }
 ],
 "metadata": {
  "kernelspec": {
   "display_name": "Python 3 (ipykernel)",
   "language": "python",
   "name": "python3"
  },
  "language_info": {
   "codemirror_mode": {
    "name": "ipython",
    "version": 3
   },
   "file_extension": ".py",
   "mimetype": "text/x-python",
   "name": "python",
   "nbconvert_exporter": "python",
   "pygments_lexer": "ipython3",
   "version": "3.10.12"
  }
 },
 "nbformat": 4,
 "nbformat_minor": 5
}
